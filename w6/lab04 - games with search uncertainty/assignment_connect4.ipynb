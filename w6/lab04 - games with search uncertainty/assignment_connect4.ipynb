{
 "cells": [
  {
   "cell_type": "markdown",
   "metadata": {},
   "source": [
    "# Adversarial Search: Playing Connect 4\n",
    "\n",
    "Student Name: [Nguyen Khai Ca]\n",
    "\n",
    "I have used the following AI tools: [list tools]\n",
    "\n",
    "I understand that my submission needs to be my own work: [NKC]"
   ]
  },
  {
   "cell_type": "markdown",
   "metadata": {},
   "source": [
    "## Learning Outcomes\n",
    "\n",
    "* Implement adversarial search algorithms for strategic game play.\n",
    "* Analyze and optimize search in complex game spaces.\n",
    "* Design effective heuristic evaluation functions.\n",
    "* Compare performance across different agent strategies.\n",
    "* Evaluate algorithmic trade-offs between decision quality and efficiency."
   ]
  },
  {
   "cell_type": "markdown",
   "metadata": {},
   "source": [
    "## Instructions\n",
    "\n",
    "Total Points: Undergraduates 100, graduate students 110\n",
    "\n",
    "Complete this notebook and submit it. The notebook needs to be a complete project report with your implementation, documentation including a short discussion of how your implementation works and your design choices, and experimental results (e.g., tables and charts with simulation results) with a short discussion of what they mean. Use the provided notebook cells and insert additional code and markdown cells as needed. Submit the completely rendered notebook as a HTML file. \n",
    "\n",
    "\n",
    "## Introduction\n",
    "\n",
    "You will implement different versions of agents that play Connect 4:\n",
    "\n",
    "> \"Connect 4 is a two-player connection board game, in which the players choose a color and then take turns dropping colored discs into a seven-column, six-row vertically suspended grid. The pieces fall straight down, occupying the lowest available space within the column. The objective of the game is to be the first to form a horizontal, vertical, or diagonal line of four of one's own discs.\" (see [Connect Four on Wikipedia](https://en.wikipedia.org/wiki/Connect_Four))\n",
    "\n",
    "Note that [Connect-4 has been solved](https://en.wikipedia.org/wiki/Connect_Four#Mathematical_solution)\n",
    "in 1988. A connect-4 solver with a discussion of how to solve different parts of the problem can be found here: https://connect4.gamesolver.org/en/"
   ]
  },
  {
   "cell_type": "markdown",
   "metadata": {},
   "source": [
    "## Task 1: Defining the Search Problem [10 point]\n",
    "\n",
    "Define the components of the search problem:\n",
    "\n",
    "* Initial state\n",
    "* Actions\n",
    "* Transition model (result function)\n",
    "* Goal state (terminal state and utility)\n",
    "\n",
    "Describe each component and then implement it as a function that can be used by search algorithms."
   ]
  },
  {
   "cell_type": "markdown",
   "metadata": {},
   "source": [
    "* Initial state: Không gian trạng thái ban đầu của trò chơi Connect4 là bảng 6x7 dòng x cột trống\n",
    "* Actions: Mỗi người chơi mỗi lượt có thể thả bóng vào một trong 7 cột. Mỗi trái bóng sẽ được thả vào dòng cuối cùng có thể trên bảng. Và không thể hoàn lại. \n",
    "* Transistion model (result function)-                                                                                           \n",
    "            ** Result (bảng hiện tại, thả bóng vào bảng)  = bảng hiện tại + bóng được thả vào                             \n",
    "            ** Result (bảng hiện tại nếu đối phương đã có 3 bóng một dòng và thả thêm 1 bóng) = thua game                 \n",
    "            ** Result (bảng hiện tại khi mà người chơi có 3 bóng 1 hàng trước và thả một bóng nữa) = thắng game\n",
    "* Goal state (Terminal state & utility)-                                                                                           \n",
    "            ** Terminal (bảng hết chỗ trống)  = game kết thúc                             \n",
    "            ** Terminal(đối phương có 4 bóng trong một hàng) = game kết thúc                 \n",
    "            ** Terminal (người chơi có 4 bóng trong một hàng) = game kết thúc\n",
    "            ** Utility(terminal state) = Tiện ích cho trạng thái đầu cuối. Giữa [-1,1]. -1 nếu người chơi của chúng tôi thua, 0 nếu hòa và 1 nếu người chơi của chúng tôi thắng. \n",
    "            \n",
    "                                                            \n",
    "\n"
   ]
  },
  {
   "cell_type": "markdown",
   "metadata": {},
   "source": [
    "How big is the state space? Give an estimate and explain it."
   ]
  },
  {
   "cell_type": "markdown",
   "metadata": {},
   "source": [
    "State space(không gian trạng thái) là 6x7 + (6x7)*3 = 74130. Vì kích thước của bảng là 6x7 và khi đó mỗi ô chỉ có thể có một quân đỏ, một quân vàng hoặc có thể trống. Vì vậy, cần thêm kích thước của bàn cờ và các nước đi tiềm năng.  "
   ]
  },
  {
   "cell_type": "markdown",
   "metadata": {},
   "source": [
    "How big is the game tree that minimax search will go through? Give an estimate and explain it."
   ]
  },
  {
   "cell_type": "markdown",
   "metadata": {},
   "source": [
    "* O(bm). b = max branching factor = 7 vì chỉ có 7 nước di chuyển khả thi. m = max depth of tree = 42 vì có 49 ô trong bảng. => O(7 * 42) = 294"
   ]
  },
  {
   "cell_type": "markdown",
   "metadata": {},
   "source": [
    "## Task 2: Game Environment and Random Agent [25 point]\n",
    "\n",
    "Use a numpy character array as the board."
   ]
  },
  {
   "cell_type": "code",
   "execution_count": 1,
   "metadata": {},
   "outputs": [
    {
     "name": "stdout",
     "output_type": "stream",
     "text": [
      "[[0 0 0 0 0 0 0]\n",
      " [0 0 0 0 0 0 0]\n",
      " [0 0 0 0 0 0 0]\n",
      " [0 0 0 0 0 0 0]\n",
      " [0 0 0 0 0 0 0]\n",
      " [0 0 0 0 0 0 0]]\n"
     ]
    }
   ],
   "source": [
    "import numpy as np\n",
    "\n",
    "def empty_board(shape=(6, 7)):\n",
    "    return np.full(shape=shape, fill_value=0)\n",
    "\n",
    "print(empty_board())"
   ]
  },
  {
   "cell_type": "markdown",
   "metadata": {},
   "source": [
    "The standard board is $6 \\times 7$ but you can use smaller boards to test your code. Instead of colors (red and yellow), I use 1 and -1 to represent the players. Make sure that your agent functions all have the from: `agent_type(board, player = 1)`, where board is the current board position (in the format above) and player is the player whose next move it is and who the agent should play (as 1 and -1)."
   ]
  },
  {
   "cell_type": "code",
   "execution_count": 2,
   "metadata": {
    "tags": []
   },
   "outputs": [
    {
     "data": {
      "image/png": "[encoded data removed]",
      "text/plain": [
       "<Figure size 640x480 with 1 Axes>"
      ]
     },
     "metadata": {},
     "output_type": "display_data"
    }
   ],
   "source": [
    "# Visualization code by Randolph Rankin\n",
    "\n",
    "import matplotlib.pyplot as plt\n",
    "\n",
    "def visualize(board):\n",
    "    plt.axes()\n",
    "    rectangle=plt.Rectangle((-0.5,len(board)*-1+0.5),len(board[0]),len(board),fc='blue')\n",
    "    circles=[]\n",
    "    for i,row in enumerate(board):\n",
    "        for j,val in enumerate(row):\n",
    "            color='white' if val==0 else 'red' if val==1 else 'yellow'\n",
    "            circles.append(plt.Circle((j,i*-1),0.4,fc=color))\n",
    "\n",
    "    plt.gca().add_patch(rectangle)\n",
    "    for circle in circles:\n",
    "        plt.gca().add_patch(circle)\n",
    "\n",
    "    plt.axis('scaled')\n",
    "    plt.show()\n",
    "    \n",
    "board = [[0, 0, 0, 0, 0, 0, 0],\n",
    "         [0, 0, 0, 0, 0, 0, 0],\n",
    "         [0, 0, 0, 0, 0, 0, 0],\n",
    "         [0, 0, 0, 1, 0, 0, 0],\n",
    "         [0, 0, 0, 1, 0, 0, 0],\n",
    "         [0,-1,-1, 1,-1, 0, 0]]\n",
    "visualize(board)"
   ]
  },
  {
   "cell_type": "markdown",
   "metadata": {
    "tags": []
   },
   "source": [
    "Implement helper functions for:\n",
    "\n",
    "* A check for available actions in each state `actions(state)`.\n",
    "* The transition model `result(state, player, action)`.\n",
    "* Check for terminal states `terminal(state)`.\n",
    "* The utility function `utility(state, player)`.\n",
    "\n",
    "The player argument is used so your agent can play red or yellow.\n",
    "Make sure that all these functions work with boards of different sizes (number of columns and rows).\n",
    "You can follow the [tic-tac-toe example from class.](https://colab.research.google.com/github/mhahsler/CS7320-AI/blob/master/Games/tictactoe_definitions.ipynb)"
   ]
  },
  {
   "cell_type": "code",
   "execution_count": 3,
   "metadata": {},
   "outputs": [],
   "source": [
    "def actions(s):\n",
    "    action = []\n",
    "    col_actions = []\n",
    "\n",
    "    for i in range(len(s[0])):\n",
    "            if s[0][i] == 0:\n",
    "                for j in range(len(s)):\n",
    "                        if s[j][i] == 0:\n",
    "                                col_actions.append(j)\n",
    "                action.append((np.max(col_actions),i))\n",
    "                col_actions = []\n",
    "    return action"
   ]
  },
  {
   "cell_type": "code",
   "execution_count": 4,
   "metadata": {},
   "outputs": [],
   "source": [
    "def result(s,player,a):\n",
    "    r = np.copy(s)\n",
    "    i,j = a\n",
    "    r[i][j] = player\n",
    "    return r"
   ]
  },
  {
   "cell_type": "code",
   "execution_count": 5,
   "metadata": {},
   "outputs": [],
   "source": [
    "def check_outcome(state, debug = False):\n",
    "\n",
    "    s = np.copy(state)\n",
    "    \n",
    "    # check for winner\n",
    "    # first check to the right\n",
    "    for j in range(len(s[0])-3):\n",
    "        for i in range(len(s)):\n",
    "            right = s[i][j] + s[i][j+1] + s[i][j+2] + s[i][j+3]\n",
    "            if debug: print(\"right = \", right, \"for \", (i,j))\n",
    "            if right == 4 or right == -4:\n",
    "                return s[i][j]\n",
    "\n",
    "    # check down\n",
    "    for j in range(len(s[0])):\n",
    "            for i in range(len(s)-3):\n",
    "                down = s[i][j] + s[i+1][j] + s[i+2][j] + s[i+3][j]\n",
    "                if debug: print(\"down = \", down, \"for \", (i,j))\n",
    "                if down == 4 or down == -4:\n",
    "                    return s[i][j]\n",
    "\n",
    "    # check right diagonal\n",
    "    for j in range(len(s[0])-3):\n",
    "            for i in range(len(s)-3):\n",
    "                right_diag = s[i][j] + s[i+1][j+1] + s[i+2][j+2] + s[i+3][j+3]\n",
    "                if debug: print(\"right_diag = \", right_diag, \"for \", (i,j))\n",
    "                if right_diag == 4 or right_diag == -4:\n",
    "                    return s[i][j]\n",
    "\n",
    "    # check left diagonal\n",
    "    for j in range(3,len(s[0])):\n",
    "            for i in range(len(s)-3):\n",
    "                left_diag = s[i][j] + s[i+1][j-1] + s[i+2][j-2] + s[i+3][j-3]\n",
    "                if debug: print(\"left diag = \", left_diag, \"for \", (i,j))\n",
    "                if left_diag == 4 or left_diag == -4:\n",
    "                    return s[i][j]\n",
    "\n",
    "    # check for full board\n",
    "    top_row = 0\n",
    "    for i in range(len(s[0])):\n",
    "        if s[0][i] != 0:\n",
    "            top_row +=1\n",
    "    if top_row >= len(s[0]):\n",
    "        if debug: print('board full')\n",
    "        return 0\n",
    "    \n",
    "    return None"
   ]
  },
  {
   "cell_type": "code",
   "execution_count": 6,
   "metadata": {},
   "outputs": [
    {
     "name": "stdout",
     "output_type": "stream",
     "text": [
      "right =  0 for  (0, 0)\n",
      "right =  0 for  (1, 0)\n",
      "right =  0 for  (2, 0)\n",
      "right =  -1 for  (3, 0)\n",
      "right =  0 for  (4, 0)\n",
      "right =  0 for  (5, 0)\n",
      "right =  0 for  (0, 1)\n",
      "right =  0 for  (1, 1)\n",
      "right =  0 for  (2, 1)\n",
      "right =  -1 for  (3, 1)\n",
      "right =  0 for  (4, 1)\n",
      "right =  -2 for  (5, 1)\n",
      "right =  0 for  (0, 2)\n",
      "right =  0 for  (1, 2)\n",
      "right =  1 for  (2, 2)\n",
      "right =  -1 for  (3, 2)\n",
      "right =  -1 for  (4, 2)\n",
      "right =  -3 for  (5, 2)\n",
      "right =  1 for  (0, 3)\n",
      "right =  1 for  (1, 3)\n",
      "right =  2 for  (2, 3)\n",
      "right =  0 for  (3, 3)\n",
      "right =  -1 for  (4, 3)\n",
      "right =  -4 for  (5, 3)\n",
      "-1\n"
     ]
    }
   ],
   "source": [
    "board = [[0, 0, 0, 0, 0, 0, 1],\n",
    "        [0, 0, 0, 0, 0, 0, 1],\n",
    "        [0, -1, 0, 1, 0, 0, 1],\n",
    "        [0, 0, -1, 0, 0, 0, 0],\n",
    "        [0, 1, 0, -1, 0, 0, 0],\n",
    "        [1, 0, 0, -1, -1, -1, -1]]\n",
    "print(check_outcome(board, debug = True))"
   ]
  },
  {
   "cell_type": "code",
   "execution_count": 7,
   "metadata": {},
   "outputs": [
    {
     "name": "stdout",
     "output_type": "stream",
     "text": [
      "right =  0 for  (0, 0)\n",
      "right =  0 for  (1, 0)\n",
      "right =  0 for  (2, 0)\n",
      "right =  0 for  (3, 0)\n",
      "right =  0 for  (4, 0)\n",
      "right =  0 for  (5, 0)\n",
      "right =  0 for  (0, 1)\n",
      "right =  0 for  (1, 1)\n",
      "right =  0 for  (2, 1)\n",
      "right =  0 for  (3, 1)\n",
      "right =  0 for  (4, 1)\n",
      "right =  0 for  (5, 1)\n",
      "right =  2 for  (0, 2)\n",
      "right =  0 for  (1, 2)\n",
      "right =  0 for  (2, 2)\n",
      "right =  0 for  (3, 2)\n",
      "right =  0 for  (4, 2)\n",
      "right =  0 for  (5, 2)\n",
      "right =  2 for  (0, 3)\n",
      "right =  0 for  (1, 3)\n",
      "right =  0 for  (2, 3)\n",
      "right =  0 for  (3, 3)\n",
      "right =  0 for  (4, 3)\n",
      "right =  0 for  (5, 3)\n",
      "down =  1 for  (0, 0)\n",
      "down =  0 for  (1, 0)\n",
      "down =  0 for  (2, 0)\n",
      "down =  -1 for  (0, 1)\n",
      "down =  0 for  (1, 1)\n",
      "down =  0 for  (2, 1)\n",
      "down =  1 for  (0, 2)\n",
      "down =  0 for  (1, 2)\n",
      "down =  0 for  (2, 2)\n",
      "down =  -1 for  (0, 3)\n",
      "down =  0 for  (1, 3)\n",
      "down =  0 for  (2, 3)\n",
      "down =  1 for  (0, 4)\n",
      "down =  0 for  (1, 4)\n",
      "down =  0 for  (2, 4)\n",
      "down =  1 for  (0, 5)\n",
      "down =  0 for  (1, 5)\n",
      "down =  0 for  (2, 5)\n",
      "down =  1 for  (0, 6)\n",
      "down =  0 for  (1, 6)\n",
      "down =  0 for  (2, 6)\n",
      "right_diag =  1 for  (0, 0)\n",
      "right_diag =  0 for  (1, 0)\n",
      "right_diag =  0 for  (2, 0)\n",
      "right_diag =  -1 for  (0, 1)\n",
      "right_diag =  0 for  (1, 1)\n",
      "right_diag =  0 for  (2, 1)\n",
      "right_diag =  1 for  (0, 2)\n",
      "right_diag =  0 for  (1, 2)\n",
      "right_diag =  0 for  (2, 2)\n",
      "right_diag =  -1 for  (0, 3)\n",
      "right_diag =  0 for  (1, 3)\n",
      "right_diag =  0 for  (2, 3)\n",
      "left diag =  -1 for  (0, 3)\n",
      "left diag =  0 for  (1, 3)\n",
      "left diag =  0 for  (2, 3)\n",
      "left diag =  1 for  (0, 4)\n",
      "left diag =  0 for  (1, 4)\n",
      "left diag =  0 for  (2, 4)\n",
      "left diag =  1 for  (0, 5)\n",
      "left diag =  0 for  (1, 5)\n",
      "left diag =  0 for  (2, 5)\n",
      "left diag =  1 for  (0, 6)\n",
      "left diag =  0 for  (1, 6)\n",
      "left diag =  0 for  (2, 6)\n",
      "board full\n",
      "0\n"
     ]
    }
   ],
   "source": [
    "board = [[1, -1, 1, -1, 1, 1, 1],\n",
    "        [0, 0, 0, 0, 0, 0, 0],\n",
    "        [0, 0, 0, 0, 0, 0, 0],\n",
    "        [0, 0, 0, 0, 0, 0, 0],\n",
    "        [0, 0, 0, 0, 0, 0, 0],\n",
    "        [0, 0, 0, 0, 0, 0, 0]]\n",
    "print(check_outcome(board, debug = True))"
   ]
  },
  {
   "cell_type": "code",
   "execution_count": 8,
   "metadata": {},
   "outputs": [],
   "source": [
    "def terminal(s):\n",
    "    return check_outcome(s) != None\n",
    "def other(player):\n",
    "    if player == 1: return -1\n",
    "    else: return 1\n",
    "def utility(s,player=1):\n",
    "    outcome = check_outcome(s)\n",
    "    if outcome == player:\n",
    "        return 1\n",
    "    elif outcome == 0:\n",
    "        return 0\n",
    "    elif outcome == other(player):\n",
    "        return -1\n",
    "    return None"
   ]
  },
  {
   "cell_type": "markdown",
   "metadata": {},
   "source": [
    "Implement an agent that plays randomly. Make sure the agent function receives as the percept the board and returns a valid action. Use an agent function definition with the following signature (arguments):\n",
    "\n",
    "`def random_player(board, player = 1): ...`\n",
    "\n",
    "The argument `player` is used for agents that do not store what color they are playing. The value passed on by the environment should be 1 ot -1 for player red and yellow, respectively.  See [Experiments section for tic-tac-toe](https://nbviewer.org/github/mhahsler/CS7320-AI/blob/master/Games/tictactoe_and_or_tree_search.ipynb#Experiments) for an example."
   ]
  },
  {
   "cell_type": "code",
   "execution_count": 9,
   "metadata": {},
   "outputs": [],
   "source": [
    "def random_player(board,player=1):\n",
    "    idx = np.random.randint(len(actions(board)))\n",
    "    return actions(board)[idx]"
   ]
  },
  {
   "cell_type": "code",
   "execution_count": 10,
   "metadata": {},
   "outputs": [],
   "source": [
    "def switch_player(player, r, y):\n",
    "    # red = 1, yellow = -1\n",
    "    if player == 1:\n",
    "        return -1, y\n",
    "    else:\n",
    "        return 1, r\n",
    "\n",
    "def play(r, y, N = 100, vis = False):\n",
    "    \"\"\"Let two agents play each other N times. x starts. x and y are agent functions that \n",
    "    get the board as the percept and return their next action.\"\"\"\n",
    "    results = {'red': 0, 'yellow': 0, 'draw': 0}\n",
    "    \n",
    "    for i in range(N):\n",
    "        board = empty_board()\n",
    "        player, fun = 1, r\n",
    "        \n",
    "        while True:\n",
    "            a = fun(board, player)\n",
    "            board = result(board, player, a)\n",
    "            \n",
    "            game_end = terminal(board)   # returns false if the game is not done.\n",
    "            if game_end:\n",
    "                outcome = check_outcome(board)\n",
    "                if outcome == 1:\n",
    "                    results['red'] += 1\n",
    "                elif outcome == -1:\n",
    "                    results['yellow'] += 1\n",
    "                elif outcome == 0:\n",
    "                    results['draw'] += 1\n",
    "                if vis:\n",
    "                    visualize(board)\n",
    "                break\n",
    "            \n",
    "            player, fun = switch_player(player, r, y)   \n",
    "    \n",
    "    return results"
   ]
  },
  {
   "cell_type": "markdown",
   "metadata": {},
   "source": [
    "Let two random agents play against each other 1000 times. Look at the [Experiments section for tic-tac-toe](https://nbviewer.org/github/mhahsler/CS7320-AI/blob/master/Games/tictactoe_and_or_tree_search.ipynb#Experiments) to see how the environment uses the agent functions to play against each other.\n",
    "\n",
    "How often does each player win? Is the result expected?"
   ]
  },
  {
   "cell_type": "code",
   "execution_count": 11,
   "metadata": {
    "tags": []
   },
   "outputs": [
    {
     "data": {
      "text/plain": [
       "{'red': 55, 'yellow': 44, 'draw': 1}"
      ]
     },
     "metadata": {},
     "output_type": "display_data"
    },
    {
     "name": "stdout",
     "output_type": "stream",
     "text": [
      "CPU times: total: 1.62 s\n",
      "Wall time: 2.29 s\n"
     ]
    }
   ],
   "source": [
    "# timeit: n ... how many times to execute the statement, \n",
    "#         r ... how many times to repeat the timer (default 5)\n",
    "\n",
    "%time display(play(random_player, random_player, N = 100))"
   ]
  },
  {
   "cell_type": "markdown",
   "metadata": {},
   "source": [
    "## Task 3: Minimax Search with Alpha-Beta Pruning\n",
    "\n",
    "### Implement the Search [20 points] \n",
    "\n",
    "Implement minimax search starting from a given board for specifying the player.\n",
    "\n",
    "__Important Notes:__ \n",
    "* You can use code from the [tic-tac-toe example](https://nbviewer.org/github/mhahsler/CS7320-AI/blob/master/Games/tictactoe_alpha_beta_tree_search.ipynb).\n",
    "* Make sure that all your agent functions have a signature consistent with the random agent above and that it [uses a class to store state information.](https://nbviewer.org/github/mhahsler/CS7320-AI/blob/master/HOWTOs/store_agent_state_information.ipynb)\n",
    "This is essential to be able play against agents from other students later.\n",
    "* The game tree for a $6 \\times 7$ board is huge and optimal algorithms need to visit each or a large percentage of all nodes in the tree. You can experiment with smaller boards like a $4 \\times 4$ board first."
   ]
  },
  {
   "cell_type": "code",
   "execution_count": 12,
   "metadata": {},
   "outputs": [],
   "source": [
    "import math"
   ]
  },
  {
   "cell_type": "code",
   "execution_count": 13,
   "metadata": {},
   "outputs": [],
   "source": [
    "def alpha_beta_search(board, player = 1):\n",
    "    value, move = max_value_ab(board, player, -math.inf, +math.inf)\n",
    "    return { \"move\": move, \"value\": value }\n",
    "\n",
    "def max_value_ab(state, player, alpha, beta):  \n",
    "    v = utility(state, player)\n",
    "    if v is not None: return v, None\n",
    "        \n",
    "    v, move = -math.inf, None\n",
    "\n",
    "    for a in actions(state):\n",
    "        v2, a2 = min_value_ab(result(state, player, a), player, alpha, beta)\n",
    "        \n",
    "        if v2 > v:\n",
    "            v, move = v2, a\n",
    "            alpha = max(alpha, v)\n",
    "        if v >= beta:\n",
    "            return v, move\n",
    "    \n",
    "    return v, move\n",
    "\n",
    "def min_value_ab(state, player, alpha, beta):\n",
    "    v = utility(state, player)\n",
    "    if v is not None: return v, None\n",
    "    \n",
    "    v, move = +math.inf, None\n",
    "\n",
    "    # check all possible actions in the state, update beta and return move with the smallest value\n",
    "    for a in actions(state):\n",
    "        v2, a2 = max_value_ab(result(state, other(player), a), player, alpha, beta)\n",
    "        \n",
    "        if v2 < v:\n",
    "            v, move = v2, a\n",
    "            beta = min(beta, v)\n",
    "        if v <= alpha: \n",
    "            return v, move\n",
    "    \n",
    "    return v, move"
   ]
  },
  {
   "cell_type": "markdown",
   "metadata": {},
   "source": [
    "Experiment with some manually created boards (at least 5) to check if the agent spots winning opportunities."
   ]
  },
  {
   "cell_type": "code",
   "execution_count": 14,
   "metadata": {},
   "outputs": [
    {
     "data": {
      "image/png": "[encoded data removed]",
      "text/plain": [
       "<Figure size 640x480 with 1 Axes>"
      ]
     },
     "metadata": {},
     "output_type": "display_data"
    },
    {
     "data": {
      "text/plain": [
       "{'move': (0, 3), 'value': 1}"
      ]
     },
     "metadata": {},
     "output_type": "display_data"
    },
    {
     "name": "stdout",
     "output_type": "stream",
     "text": [
      "CPU times: total: 15.6 ms\n",
      "Wall time: 15 ms\n"
     ]
    }
   ],
   "source": [
    "# board 1\n",
    "board = [[0, 0, 0, 0],\n",
    "         [0,-1, 1, 1],\n",
    "         [-1,1,-1,-1],\n",
    "         [1,-1, 1,-1]]\n",
    "visualize(board)\n",
    "%time display(alpha_beta_search(board))"
   ]
  },
  {
   "cell_type": "code",
   "execution_count": 15,
   "metadata": {},
   "outputs": [
    {
     "data": {
      "image/png": "[encoded data removed]",
      "text/plain": [
       "<Figure size 640x480 with 1 Axes>"
      ]
     },
     "metadata": {},
     "output_type": "display_data"
    },
    {
     "data": {
      "text/plain": [
       "{'move': (1, 0), 'value': 1}"
      ]
     },
     "metadata": {},
     "output_type": "display_data"
    },
    {
     "name": "stdout",
     "output_type": "stream",
     "text": [
      "CPU times: total: 0 ns\n",
      "Wall time: 2.99 ms\n"
     ]
    }
   ],
   "source": [
    "# board 2\n",
    "board = [[0, 0, 0, 0],\n",
    "         [0, 1, 1, 1],\n",
    "         [-1,1, 1,-1],\n",
    "         [1,-1, 1, 1]]\n",
    "visualize(board)\n",
    "%time display(alpha_beta_search(board))"
   ]
  },
  {
   "cell_type": "code",
   "execution_count": 16,
   "metadata": {},
   "outputs": [
    {
     "data": {
      "image/png": "[encoded data removed]",
      "text/plain": [
       "<Figure size 640x480 with 1 Axes>"
      ]
     },
     "metadata": {},
     "output_type": "display_data"
    },
    {
     "data": {
      "text/plain": [
       "{'move': (0, 3), 'value': 1}"
      ]
     },
     "metadata": {},
     "output_type": "display_data"
    },
    {
     "name": "stdout",
     "output_type": "stream",
     "text": [
      "CPU times: total: 156 ms\n",
      "Wall time: 157 ms\n"
     ]
    }
   ],
   "source": [
    "# board 3\n",
    "board = [[0, 0, 0, 0],\n",
    "         [0,-1, 0, 1],\n",
    "         [0,-1, 0, 1],\n",
    "         [0,-1, 0, 1]]\n",
    "visualize(board)\n",
    "%time display(alpha_beta_search(board))"
   ]
  },
  {
   "cell_type": "code",
   "execution_count": 17,
   "metadata": {},
   "outputs": [
    {
     "data": {
      "image/png": "[encoded data removed]",
      "text/plain": [
       "<Figure size 640x480 with 1 Axes>"
      ]
     },
     "metadata": {},
     "output_type": "display_data"
    },
    {
     "data": {
      "text/plain": [
       "{'move': (3, 2), 'value': 1}"
      ]
     },
     "metadata": {},
     "output_type": "display_data"
    },
    {
     "name": "stdout",
     "output_type": "stream",
     "text": [
      "CPU times: total: 125 ms\n",
      "Wall time: 120 ms\n"
     ]
    }
   ],
   "source": [
    "# board 4\n",
    "board = [[0, 0, 0, 0],\n",
    "         [0, 0, 0, 0],\n",
    "         [-1,-1,0,-1],\n",
    "         [1, 1, 0, 1]]\n",
    "visualize(board)\n",
    "%time display(alpha_beta_search(board))"
   ]
  },
  {
   "cell_type": "code",
   "execution_count": 18,
   "metadata": {},
   "outputs": [
    {
     "data": {
      "image/png": "[encoded data removed]",
      "text/plain": [
       "<Figure size 640x480 with 1 Axes>"
      ]
     },
     "metadata": {},
     "output_type": "display_data"
    },
    {
     "data": {
      "text/plain": [
       "{'move': (0, 0), 'value': -1}"
      ]
     },
     "metadata": {},
     "output_type": "display_data"
    },
    {
     "name": "stdout",
     "output_type": "stream",
     "text": [
      "CPU times: total: 0 ns\n",
      "Wall time: 3.98 ms\n"
     ]
    }
   ],
   "source": [
    "# board 5\n",
    "board = [[0, 0, 0, 0],\n",
    "         [-1,0,-1, 1],\n",
    "         [-1,-1,1,-1],\n",
    "         [-1, 1,-1,1]]\n",
    "visualize(board)\n",
    "%time display(alpha_beta_search(board))"
   ]
  },
  {
   "cell_type": "markdown",
   "metadata": {},
   "source": [
    "How long does it take to make a move? Start with a smaller board with 4 columns and make the board larger by adding columns/rows. Explain why using this algorithm on a standard $6 \\times 7$ board is not feasible."
   ]
  },
  {
   "cell_type": "code",
   "execution_count": 19,
   "metadata": {},
   "outputs": [
    {
     "data": {
      "text/plain": [
       "{'move': (3, 0), 'value': 0}"
      ]
     },
     "metadata": {},
     "output_type": "display_data"
    },
    {
     "name": "stdout",
     "output_type": "stream",
     "text": [
      "CPU times: total: 4.94 s\n",
      "Wall time: 6.33 s\n"
     ]
    }
   ],
   "source": [
    "# 4x4 board\n",
    "board = [[0, 0, 0, 0],\n",
    "         [0, 0, 0, 0],\n",
    "         [0, 0, 0, 0],\n",
    "         [0, 0, 0, 0]]\n",
    "\n",
    "%time display(alpha_beta_search(board))"
   ]
  },
  {
   "cell_type": "code",
   "execution_count": 20,
   "metadata": {},
   "outputs": [
    {
     "ename": "KeyboardInterrupt",
     "evalue": "",
     "output_type": "error",
     "traceback": [
      "\u001b[1;31m---------------------------------------------------------------------------\u001b[0m",
      "\u001b[1;31mKeyboardInterrupt\u001b[0m                         Traceback (most recent call last)",
      "File \u001b[1;32m<timed eval>:1\u001b[0m\n",
      "Cell \u001b[1;32mIn[13], line 2\u001b[0m, in \u001b[0;36malpha_beta_search\u001b[1;34m(board, player)\u001b[0m\n\u001b[0;32m      1\u001b[0m \u001b[38;5;28;01mdef\u001b[39;00m \u001b[38;5;21malpha_beta_search\u001b[39m(board, player \u001b[38;5;241m=\u001b[39m \u001b[38;5;241m1\u001b[39m):\n\u001b[1;32m----> 2\u001b[0m     value, move \u001b[38;5;241m=\u001b[39m \u001b[43mmax_value_ab\u001b[49m\u001b[43m(\u001b[49m\u001b[43mboard\u001b[49m\u001b[43m,\u001b[49m\u001b[43m \u001b[49m\u001b[43mplayer\u001b[49m\u001b[43m,\u001b[49m\u001b[43m \u001b[49m\u001b[38;5;241;43m-\u001b[39;49m\u001b[43mmath\u001b[49m\u001b[38;5;241;43m.\u001b[39;49m\u001b[43minf\u001b[49m\u001b[43m,\u001b[49m\u001b[43m \u001b[49m\u001b[38;5;241;43m+\u001b[39;49m\u001b[43mmath\u001b[49m\u001b[38;5;241;43m.\u001b[39;49m\u001b[43minf\u001b[49m\u001b[43m)\u001b[49m\n\u001b[0;32m      4\u001b[0m     \u001b[38;5;28;01mreturn\u001b[39;00m { \u001b[38;5;124m\"\u001b[39m\u001b[38;5;124mmove\u001b[39m\u001b[38;5;124m\"\u001b[39m: move, \u001b[38;5;124m\"\u001b[39m\u001b[38;5;124mvalue\u001b[39m\u001b[38;5;124m\"\u001b[39m: value }\n",
      "Cell \u001b[1;32mIn[13], line 13\u001b[0m, in \u001b[0;36mmax_value_ab\u001b[1;34m(state, player, alpha, beta)\u001b[0m\n\u001b[0;32m     10\u001b[0m v, move \u001b[38;5;241m=\u001b[39m \u001b[38;5;241m-\u001b[39mmath\u001b[38;5;241m.\u001b[39minf, \u001b[38;5;28;01mNone\u001b[39;00m\n\u001b[0;32m     12\u001b[0m \u001b[38;5;28;01mfor\u001b[39;00m a \u001b[38;5;129;01min\u001b[39;00m actions(state):\n\u001b[1;32m---> 13\u001b[0m     v2, a2 \u001b[38;5;241m=\u001b[39m \u001b[43mmin_value_ab\u001b[49m\u001b[43m(\u001b[49m\u001b[43mresult\u001b[49m\u001b[43m(\u001b[49m\u001b[43mstate\u001b[49m\u001b[43m,\u001b[49m\u001b[43m \u001b[49m\u001b[43mplayer\u001b[49m\u001b[43m,\u001b[49m\u001b[43m \u001b[49m\u001b[43ma\u001b[49m\u001b[43m)\u001b[49m\u001b[43m,\u001b[49m\u001b[43m \u001b[49m\u001b[43mplayer\u001b[49m\u001b[43m,\u001b[49m\u001b[43m \u001b[49m\u001b[43malpha\u001b[49m\u001b[43m,\u001b[49m\u001b[43m \u001b[49m\u001b[43mbeta\u001b[49m\u001b[43m)\u001b[49m\n\u001b[0;32m     15\u001b[0m     \u001b[38;5;28;01mif\u001b[39;00m v2 \u001b[38;5;241m>\u001b[39m v:\n\u001b[0;32m     16\u001b[0m         v, move \u001b[38;5;241m=\u001b[39m v2, a\n",
      "Cell \u001b[1;32mIn[13], line 31\u001b[0m, in \u001b[0;36mmin_value_ab\u001b[1;34m(state, player, alpha, beta)\u001b[0m\n\u001b[0;32m     29\u001b[0m \u001b[38;5;66;03m# check all possible actions in the state, update beta and return move with the smallest value\u001b[39;00m\n\u001b[0;32m     30\u001b[0m \u001b[38;5;28;01mfor\u001b[39;00m a \u001b[38;5;129;01min\u001b[39;00m actions(state):\n\u001b[1;32m---> 31\u001b[0m     v2, a2 \u001b[38;5;241m=\u001b[39m \u001b[43mmax_value_ab\u001b[49m\u001b[43m(\u001b[49m\u001b[43mresult\u001b[49m\u001b[43m(\u001b[49m\u001b[43mstate\u001b[49m\u001b[43m,\u001b[49m\u001b[43m \u001b[49m\u001b[43mother\u001b[49m\u001b[43m(\u001b[49m\u001b[43mplayer\u001b[49m\u001b[43m)\u001b[49m\u001b[43m,\u001b[49m\u001b[43m \u001b[49m\u001b[43ma\u001b[49m\u001b[43m)\u001b[49m\u001b[43m,\u001b[49m\u001b[43m \u001b[49m\u001b[43mplayer\u001b[49m\u001b[43m,\u001b[49m\u001b[43m \u001b[49m\u001b[43malpha\u001b[49m\u001b[43m,\u001b[49m\u001b[43m \u001b[49m\u001b[43mbeta\u001b[49m\u001b[43m)\u001b[49m\n\u001b[0;32m     33\u001b[0m     \u001b[38;5;28;01mif\u001b[39;00m v2 \u001b[38;5;241m<\u001b[39m v:\n\u001b[0;32m     34\u001b[0m         v, move \u001b[38;5;241m=\u001b[39m v2, a\n",
      "Cell \u001b[1;32mIn[13], line 13\u001b[0m, in \u001b[0;36mmax_value_ab\u001b[1;34m(state, player, alpha, beta)\u001b[0m\n\u001b[0;32m     10\u001b[0m v, move \u001b[38;5;241m=\u001b[39m \u001b[38;5;241m-\u001b[39mmath\u001b[38;5;241m.\u001b[39minf, \u001b[38;5;28;01mNone\u001b[39;00m\n\u001b[0;32m     12\u001b[0m \u001b[38;5;28;01mfor\u001b[39;00m a \u001b[38;5;129;01min\u001b[39;00m actions(state):\n\u001b[1;32m---> 13\u001b[0m     v2, a2 \u001b[38;5;241m=\u001b[39m \u001b[43mmin_value_ab\u001b[49m\u001b[43m(\u001b[49m\u001b[43mresult\u001b[49m\u001b[43m(\u001b[49m\u001b[43mstate\u001b[49m\u001b[43m,\u001b[49m\u001b[43m \u001b[49m\u001b[43mplayer\u001b[49m\u001b[43m,\u001b[49m\u001b[43m \u001b[49m\u001b[43ma\u001b[49m\u001b[43m)\u001b[49m\u001b[43m,\u001b[49m\u001b[43m \u001b[49m\u001b[43mplayer\u001b[49m\u001b[43m,\u001b[49m\u001b[43m \u001b[49m\u001b[43malpha\u001b[49m\u001b[43m,\u001b[49m\u001b[43m \u001b[49m\u001b[43mbeta\u001b[49m\u001b[43m)\u001b[49m\n\u001b[0;32m     15\u001b[0m     \u001b[38;5;28;01mif\u001b[39;00m v2 \u001b[38;5;241m>\u001b[39m v:\n\u001b[0;32m     16\u001b[0m         v, move \u001b[38;5;241m=\u001b[39m v2, a\n",
      "Cell \u001b[1;32mIn[13], line 31\u001b[0m, in \u001b[0;36mmin_value_ab\u001b[1;34m(state, player, alpha, beta)\u001b[0m\n\u001b[0;32m     29\u001b[0m \u001b[38;5;66;03m# check all possible actions in the state, update beta and return move with the smallest value\u001b[39;00m\n\u001b[0;32m     30\u001b[0m \u001b[38;5;28;01mfor\u001b[39;00m a \u001b[38;5;129;01min\u001b[39;00m actions(state):\n\u001b[1;32m---> 31\u001b[0m     v2, a2 \u001b[38;5;241m=\u001b[39m \u001b[43mmax_value_ab\u001b[49m\u001b[43m(\u001b[49m\u001b[43mresult\u001b[49m\u001b[43m(\u001b[49m\u001b[43mstate\u001b[49m\u001b[43m,\u001b[49m\u001b[43m \u001b[49m\u001b[43mother\u001b[49m\u001b[43m(\u001b[49m\u001b[43mplayer\u001b[49m\u001b[43m)\u001b[49m\u001b[43m,\u001b[49m\u001b[43m \u001b[49m\u001b[43ma\u001b[49m\u001b[43m)\u001b[49m\u001b[43m,\u001b[49m\u001b[43m \u001b[49m\u001b[43mplayer\u001b[49m\u001b[43m,\u001b[49m\u001b[43m \u001b[49m\u001b[43malpha\u001b[49m\u001b[43m,\u001b[49m\u001b[43m \u001b[49m\u001b[43mbeta\u001b[49m\u001b[43m)\u001b[49m\n\u001b[0;32m     33\u001b[0m     \u001b[38;5;28;01mif\u001b[39;00m v2 \u001b[38;5;241m<\u001b[39m v:\n\u001b[0;32m     34\u001b[0m         v, move \u001b[38;5;241m=\u001b[39m v2, a\n",
      "    \u001b[1;31m[... skipping similar frames: max_value_ab at line 13 (6 times), min_value_ab at line 31 (5 times)]\u001b[0m\n",
      "Cell \u001b[1;32mIn[13], line 31\u001b[0m, in \u001b[0;36mmin_value_ab\u001b[1;34m(state, player, alpha, beta)\u001b[0m\n\u001b[0;32m     29\u001b[0m \u001b[38;5;66;03m# check all possible actions in the state, update beta and return move with the smallest value\u001b[39;00m\n\u001b[0;32m     30\u001b[0m \u001b[38;5;28;01mfor\u001b[39;00m a \u001b[38;5;129;01min\u001b[39;00m actions(state):\n\u001b[1;32m---> 31\u001b[0m     v2, a2 \u001b[38;5;241m=\u001b[39m \u001b[43mmax_value_ab\u001b[49m\u001b[43m(\u001b[49m\u001b[43mresult\u001b[49m\u001b[43m(\u001b[49m\u001b[43mstate\u001b[49m\u001b[43m,\u001b[49m\u001b[43m \u001b[49m\u001b[43mother\u001b[49m\u001b[43m(\u001b[49m\u001b[43mplayer\u001b[49m\u001b[43m)\u001b[49m\u001b[43m,\u001b[49m\u001b[43m \u001b[49m\u001b[43ma\u001b[49m\u001b[43m)\u001b[49m\u001b[43m,\u001b[49m\u001b[43m \u001b[49m\u001b[43mplayer\u001b[49m\u001b[43m,\u001b[49m\u001b[43m \u001b[49m\u001b[43malpha\u001b[49m\u001b[43m,\u001b[49m\u001b[43m \u001b[49m\u001b[43mbeta\u001b[49m\u001b[43m)\u001b[49m\n\u001b[0;32m     33\u001b[0m     \u001b[38;5;28;01mif\u001b[39;00m v2 \u001b[38;5;241m<\u001b[39m v:\n\u001b[0;32m     34\u001b[0m         v, move \u001b[38;5;241m=\u001b[39m v2, a\n",
      "Cell \u001b[1;32mIn[13], line 13\u001b[0m, in \u001b[0;36mmax_value_ab\u001b[1;34m(state, player, alpha, beta)\u001b[0m\n\u001b[0;32m     10\u001b[0m v, move \u001b[38;5;241m=\u001b[39m \u001b[38;5;241m-\u001b[39mmath\u001b[38;5;241m.\u001b[39minf, \u001b[38;5;28;01mNone\u001b[39;00m\n\u001b[0;32m     12\u001b[0m \u001b[38;5;28;01mfor\u001b[39;00m a \u001b[38;5;129;01min\u001b[39;00m actions(state):\n\u001b[1;32m---> 13\u001b[0m     v2, a2 \u001b[38;5;241m=\u001b[39m min_value_ab(\u001b[43mresult\u001b[49m\u001b[43m(\u001b[49m\u001b[43mstate\u001b[49m\u001b[43m,\u001b[49m\u001b[43m \u001b[49m\u001b[43mplayer\u001b[49m\u001b[43m,\u001b[49m\u001b[43m \u001b[49m\u001b[43ma\u001b[49m\u001b[43m)\u001b[49m, player, alpha, beta)\n\u001b[0;32m     15\u001b[0m     \u001b[38;5;28;01mif\u001b[39;00m v2 \u001b[38;5;241m>\u001b[39m v:\n\u001b[0;32m     16\u001b[0m         v, move \u001b[38;5;241m=\u001b[39m v2, a\n",
      "Cell \u001b[1;32mIn[4], line 2\u001b[0m, in \u001b[0;36mresult\u001b[1;34m(s, player, a)\u001b[0m\n\u001b[0;32m      1\u001b[0m \u001b[38;5;28;01mdef\u001b[39;00m \u001b[38;5;21mresult\u001b[39m(s,player,a):\n\u001b[1;32m----> 2\u001b[0m     r \u001b[38;5;241m=\u001b[39m \u001b[43mnp\u001b[49m\u001b[38;5;241;43m.\u001b[39;49m\u001b[43mcopy\u001b[49m\u001b[43m(\u001b[49m\u001b[43ms\u001b[49m\u001b[43m)\u001b[49m\n\u001b[0;32m      3\u001b[0m     i,j \u001b[38;5;241m=\u001b[39m a\n\u001b[0;32m      4\u001b[0m     r[i][j] \u001b[38;5;241m=\u001b[39m player\n",
      "File \u001b[1;32md:\\cache\\Lib\\site-packages\\numpy\\lib\\function_base.py:962\u001b[0m, in \u001b[0;36mcopy\u001b[1;34m(a, order, subok)\u001b[0m\n\u001b[0;32m    873\u001b[0m \u001b[38;5;129m@array_function_dispatch\u001b[39m(_copy_dispatcher)\n\u001b[0;32m    874\u001b[0m \u001b[38;5;28;01mdef\u001b[39;00m \u001b[38;5;21mcopy\u001b[39m(a, order\u001b[38;5;241m=\u001b[39m\u001b[38;5;124m'\u001b[39m\u001b[38;5;124mK\u001b[39m\u001b[38;5;124m'\u001b[39m, subok\u001b[38;5;241m=\u001b[39m\u001b[38;5;28;01mFalse\u001b[39;00m):\n\u001b[0;32m    875\u001b[0m \u001b[38;5;250m    \u001b[39m\u001b[38;5;124;03m\"\"\"\u001b[39;00m\n\u001b[0;32m    876\u001b[0m \u001b[38;5;124;03m    Return an array copy of the given object.\u001b[39;00m\n\u001b[0;32m    877\u001b[0m \n\u001b[1;32m   (...)\u001b[0m\n\u001b[0;32m    960\u001b[0m \n\u001b[0;32m    961\u001b[0m \u001b[38;5;124;03m    \"\"\"\u001b[39;00m\n\u001b[1;32m--> 962\u001b[0m     \u001b[38;5;28;01mreturn\u001b[39;00m \u001b[43marray\u001b[49m\u001b[43m(\u001b[49m\u001b[43ma\u001b[49m\u001b[43m,\u001b[49m\u001b[43m \u001b[49m\u001b[43morder\u001b[49m\u001b[38;5;241;43m=\u001b[39;49m\u001b[43morder\u001b[49m\u001b[43m,\u001b[49m\u001b[43m \u001b[49m\u001b[43msubok\u001b[49m\u001b[38;5;241;43m=\u001b[39;49m\u001b[43msubok\u001b[49m\u001b[43m,\u001b[49m\u001b[43m \u001b[49m\u001b[43mcopy\u001b[49m\u001b[38;5;241;43m=\u001b[39;49m\u001b[38;5;28;43;01mTrue\u001b[39;49;00m\u001b[43m)\u001b[49m\n",
      "\u001b[1;31mKeyboardInterrupt\u001b[0m: "
     ]
    }
   ],
   "source": [
    "# 4x5 board\n",
    "board = [[0, 0, 0, 0, 0],\n",
    "         [0, 0, 0, 0, 0],\n",
    "         [0, 0, 0, 0, 0],\n",
    "         [0, 0, 0, 0, 0]]\n",
    "\n",
    "%time display(alpha_beta_search(board))"
   ]
  },
  {
   "cell_type": "code",
   "execution_count": null,
   "metadata": {},
   "outputs": [],
   "source": [
    "# 4x6 board\n",
    "board = [[0, 0, 0, 0, 0, 0],\n",
    "         [0, 0, 0, 0, 0, 0],\n",
    "         [0, 0, 0, 0, 0, 0],\n",
    "         [0, 0, 0, 0, 0, 0]]\n",
    "#%time display(alpha_beta_search(board))"
   ]
  },
  {
   "cell_type": "code",
   "execution_count": null,
   "metadata": {},
   "outputs": [],
   "source": [
    "# 4x7 board\n",
    "board = [[0, 0, 0, 0, 0, 0, 0],\n",
    "         [0, 0, 0, 0, 0, 0, 0],\n",
    "         [0, 0, 0, 0, 0, 0, 0],\n",
    "         [0, 0, 0, 0, 0, 0, 0]]"
   ]
  },
  {
   "cell_type": "markdown",
   "metadata": {},
   "source": [
    "Chạy quá lâu em chạy khoảng 40'' nhưng vẫn chưa xong !"
   ]
  },
  {
   "cell_type": "markdown",
   "metadata": {},
   "source": [
    "### Move ordering [5 points]\n",
    "\n",
    "Starting the search with better moves will increase the efficiency of alpha-beta pruning. Describe and implement a simple move ordering strategy. Make a table that shows how the ordering strategies influence the time it takes to make a move?"
   ]
  },
  {
   "cell_type": "code",
   "execution_count": 21,
   "metadata": {},
   "outputs": [],
   "source": [
    "# priority for 6x7\n",
    "def actions(s):\n",
    "    action = []\n",
    "    col_actions = []\n",
    "    priority = [0,0.5,1,2,1,0.5,0]\n",
    "\n",
    "    for i in range(len(s[0])):\n",
    "            if s[0][i] == 0:\n",
    "                for j in range(len(s)):\n",
    "                        if s[j][i] == 0:\n",
    "                                col_actions.append(j)\n",
    "                action.append((np.max(col_actions),i))\n",
    "                col_actions = []\n",
    "\n",
    "    priority_action = [a for _,a in sorted(zip(priority,action), reverse = True)]\n",
    "    return priority_action"
   ]
  },
  {
   "cell_type": "code",
   "execution_count": 22,
   "metadata": {},
   "outputs": [],
   "source": [
    "# priority for any size\n",
    "def actions(s):\n",
    "    action = []\n",
    "    col_actions = []\n",
    "    priority = []\n",
    "    length = len(s[0])\n",
    "\n",
    "    if length%2 == 0:\n",
    "        p = 0\n",
    "        for i in range(0,int(length/2)):\n",
    "            if s[0][i] == 0:\n",
    "                priority.append(p)\n",
    "                p += 1\n",
    "        for i in range(int(length/2), length):\n",
    "            if s[0][i] == 0:\n",
    "                p -= 1\n",
    "                priority.append(p)\n",
    "    else:\n",
    "        p = -1\n",
    "        for i in range(0,math.ceil(length/2)):\n",
    "            if s[0][i] == 0:\n",
    "                p += 1\n",
    "                priority.append(p)\n",
    "        for i in range(math.ceil(length/2), length):\n",
    "            if s[0][i] == 0:\n",
    "                p -= 1\n",
    "                priority.append(p)\n",
    "        \n",
    "    for i in range(len(s[0])):\n",
    "            if s[0][i] == 0:\n",
    "                for j in range(len(s)):\n",
    "                        if s[j][i] == 0:\n",
    "                                col_actions.append(j)\n",
    "                action.append((np.max(col_actions),i))\n",
    "                col_actions = []\n",
    "\n",
    "    priority_action = [a for _,a in sorted(zip(priority,action), reverse = True)]\n",
    "    return priority_action"
   ]
  },
  {
   "cell_type": "code",
   "execution_count": 23,
   "metadata": {},
   "outputs": [
    {
     "data": {
      "image/png": "[encoded data removed]",
      "text/plain": [
       "<Figure size 640x480 with 1 Axes>"
      ]
     },
     "metadata": {},
     "output_type": "display_data"
    },
    {
     "data": {
      "text/plain": [
       "[(2, 2), (1, 1), (2, 3), (1, 0)]"
      ]
     },
     "execution_count": 23,
     "metadata": {},
     "output_type": "execute_result"
    }
   ],
   "source": [
    "board = [[0, 0, 0, 0],\n",
    "         [0, 0, 0, 0],\n",
    "         [-1,1, 0, 0],\n",
    "         [-1,1,-1, 1]]\n",
    "visualize(board)\n",
    "actions(board)"
   ]
  },
  {
   "cell_type": "code",
   "execution_count": 24,
   "metadata": {},
   "outputs": [
    {
     "data": {
      "text/plain": [
       "{'move': (3, 2), 'value': 0}"
      ]
     },
     "metadata": {},
     "output_type": "display_data"
    },
    {
     "name": "stdout",
     "output_type": "stream",
     "text": [
      "CPU times: total: 24.4 s\n",
      "Wall time: 36.7 s\n"
     ]
    }
   ],
   "source": [
    "# 4x4 board\n",
    "board = [[0, 0, 0, 0],\n",
    "         [0, 0, 0, 0],\n",
    "         [0, 0, 0, 0],\n",
    "         [0, 0, 0, 0]]\n",
    "\n",
    "%time display(alpha_beta_search(board))"
   ]
  },
  {
   "cell_type": "code",
   "execution_count": 25,
   "metadata": {},
   "outputs": [
    {
     "data": {
      "text/plain": [
       "{'move': (3, 2), 'value': 0}"
      ]
     },
     "metadata": {},
     "output_type": "display_data"
    },
    {
     "name": "stdout",
     "output_type": "stream",
     "text": [
      "CPU times: total: 14min 20s\n",
      "Wall time: 14min 52s\n"
     ]
    }
   ],
   "source": [
    "# 4x5 board\n",
    "board = [[0, 0, 0, 0, 0],\n",
    "         [0, 0, 0, 0, 0],\n",
    "         [0, 0, 0, 0, 0],\n",
    "         [0, 0, 0, 0, 0]]\n",
    "\n",
    "%time display(alpha_beta_search(board))"
   ]
  },
  {
   "cell_type": "code",
   "execution_count": 27,
   "metadata": {},
   "outputs": [],
   "source": [
    "# import pandas as pd\n",
    "# dict = {'Algorithm & Size' : ['No Move Ordering, 4x4','No Move Ordering, 4x5','Move Ordering, 4x4','Move Ordering, 4x5'], \n",
    "#         'Runtime' : ['']}\n",
    "# df = pd.DataFrame(dict)\n",
    "# display(df)"
   ]
  },
  {
   "cell_type": "markdown",
   "metadata": {},
   "source": [
    "### The first few moves [5 points]\n",
    "\n",
    "Start with an empty board. This is the worst case scenario for minimax search since it needs solve all possible games that can be played (minus some pruning) before making the decision. What can you do? "
   ]
  },
  {
   "cell_type": "code",
   "execution_count": 28,
   "metadata": {},
   "outputs": [],
   "source": [
    "# 6x7 board\n",
    "board = [[0, 0, 0, 0, 0, 0, 0],\n",
    "         [0, 0, 0, 0, 0, 0, 0],\n",
    "         [0, 0, 0, 0, 0, 0, 0],\n",
    "         [0, 0, 0, 0, 0, 0, 0],\n",
    "         [0, 0, 0, 0, 0, 0, 0],\n",
    "         [0, 0, 0, 0, 0, 0, 0]]"
   ]
  },
  {
   "cell_type": "markdown",
   "metadata": {},
   "source": [
    "### Playtime [5 points]\n",
    "\n",
    "Let the Minimax Search agent play a random agent on a $4 \\times 4$ board. Analyze wins, losses and draws."
   ]
  },
  {
   "cell_type": "code",
   "execution_count": 29,
   "metadata": {},
   "outputs": [],
   "source": [
    "def play_four(r, y, N = 100, vis = False):\n",
    "    \"\"\"Let two agents play each other N times. x starts. x and y are agent functions that \n",
    "    get the board as the percept and return their next action.\"\"\"\n",
    "    results = {'red': 0, 'yellow': 0, 'draw': 0}\n",
    "    \n",
    "    for i in range(N):\n",
    "        board = empty_board(shape=(4,4))\n",
    "        player, fun = 1, r\n",
    "        \n",
    "        while True:\n",
    "            a = fun(board, player)\n",
    "            #print('action: ',a)\n",
    "            board = result(board, player, a)\n",
    "            \n",
    "            game_end = terminal(board)   # returns false if the game is not done.\n",
    "            if game_end:\n",
    "                outcome = check_outcome(board)\n",
    "                if outcome == 1:\n",
    "                    results['red'] += 1\n",
    "                elif outcome == -1:\n",
    "                    results['yellow'] += 1\n",
    "                elif outcome == 0:\n",
    "                    results['draw'] += 1\n",
    "                if vis:\n",
    "                    visualize(board)\n",
    "                break\n",
    "            \n",
    "            player, fun = switch_player(player, r, y)   \n",
    "    \n",
    "    return results"
   ]
  },
  {
   "cell_type": "code",
   "execution_count": 32,
   "metadata": {},
   "outputs": [],
   "source": [
    "def ab_player(board,player=1):\n",
    "    return list(alpha_beta_search_opening(board,player).values())[0]"
   ]
  },
  {
   "cell_type": "code",
   "execution_count": 34,
   "metadata": {},
   "outputs": [
    {
     "ename": "NameError",
     "evalue": "name 'alpha_beta_search_opening' is not defined",
     "output_type": "error",
     "traceback": [
      "\u001b[1;31m---------------------------------------------------------------------------\u001b[0m",
      "\u001b[1;31mNameError\u001b[0m                                 Traceback (most recent call last)",
      "File \u001b[1;32m<timed eval>:1\u001b[0m\n",
      "Cell \u001b[1;32mIn[29], line 11\u001b[0m, in \u001b[0;36mplay_four\u001b[1;34m(r, y, N, vis)\u001b[0m\n\u001b[0;32m      8\u001b[0m player, fun \u001b[38;5;241m=\u001b[39m \u001b[38;5;241m1\u001b[39m, r\n\u001b[0;32m     10\u001b[0m \u001b[38;5;28;01mwhile\u001b[39;00m \u001b[38;5;28;01mTrue\u001b[39;00m:\n\u001b[1;32m---> 11\u001b[0m     a \u001b[38;5;241m=\u001b[39m \u001b[43mfun\u001b[49m\u001b[43m(\u001b[49m\u001b[43mboard\u001b[49m\u001b[43m,\u001b[49m\u001b[43m \u001b[49m\u001b[43mplayer\u001b[49m\u001b[43m)\u001b[49m\n\u001b[0;32m     12\u001b[0m     \u001b[38;5;66;03m#print('action: ',a)\u001b[39;00m\n\u001b[0;32m     13\u001b[0m     board \u001b[38;5;241m=\u001b[39m result(board, player, a)\n",
      "Cell \u001b[1;32mIn[32], line 2\u001b[0m, in \u001b[0;36mab_player\u001b[1;34m(board, player)\u001b[0m\n\u001b[0;32m      1\u001b[0m \u001b[38;5;28;01mdef\u001b[39;00m \u001b[38;5;21mab_player\u001b[39m(board,player\u001b[38;5;241m=\u001b[39m\u001b[38;5;241m1\u001b[39m):\n\u001b[1;32m----> 2\u001b[0m     \u001b[38;5;28;01mreturn\u001b[39;00m \u001b[38;5;28mlist\u001b[39m(\u001b[43malpha_beta_search_opening\u001b[49m(board,player)\u001b[38;5;241m.\u001b[39mvalues())[\u001b[38;5;241m0\u001b[39m]\n",
      "\u001b[1;31mNameError\u001b[0m: name 'alpha_beta_search_opening' is not defined"
     ]
    }
   ],
   "source": [
    "# opening agent\n",
    "%time display(play_four(ab_player, random_player, N = 100))"
   ]
  },
  {
   "cell_type": "markdown",
   "metadata": {},
   "source": [
    "## Task 4: Heuristic Alpha-Beta Tree Search\n",
    "\n",
    "### Heuristic evaluation function [15 points]\n",
    "\n",
    "Define and implement a heuristic evaluation function. Make sure that the heuristic value stays in the correct range."
   ]
  },
  {
   "cell_type": "code",
   "execution_count": 35,
   "metadata": {},
   "outputs": [],
   "source": [
    "def eval_adjacent(adjacent,player):\n",
    "    p_pieces = 0\n",
    "    op_pieces = 0\n",
    "    spaces = 0\n",
    "    score = 0\n",
    "\n",
    "    for p in adjacent:\n",
    "        if p == player:\n",
    "            p_pieces += 1\n",
    "        elif p == -player:\n",
    "            op_pieces += 1\n",
    "        else:\n",
    "            spaces += 1\n",
    "\n",
    "    if p_pieces == 2 and spaces == 2:\n",
    "        score = 0.05\n",
    "    elif p_pieces == 2:\n",
    "        score = 0.025\n",
    "    elif p_pieces == 3 or op_pieces == 3:\n",
    "        score = 0.1\n",
    "    elif p_pieces == 1:\n",
    "        score = 0.025\n",
    "\n",
    "    return score"
   ]
  },
  {
   "cell_type": "code",
   "execution_count": 36,
   "metadata": {},
   "outputs": [],
   "source": [
    "def eval_fun(state, player = 1):\n",
    "    # first check if terminal\n",
    "    s = state.copy()\n",
    "\n",
    "    if utility(state, player) != None: return utility(state,player), True\n",
    "    score = 0\n",
    "\n",
    "    # check heuristic to the right\n",
    "    for j in range(len(s[0])-3):\n",
    "        for i in range(len(s)):\n",
    "            right = [s[i][j], s[i][j+1], s[i][j+2], s[i][j+3]]\n",
    "            score += eval_adjacent(right, player)\n",
    "    \n",
    "    # check heuristic down\n",
    "    for j in range(len(s[0])):\n",
    "        for i in range(len(s)-3):\n",
    "            down = [s[i][j], s[i+1][j], s[i+2][j], s[i+3][j]]\n",
    "            score += eval_adjacent(down, player)\n",
    "\n",
    "    # check heuristic along right diagonal\n",
    "    for j in range(len(s[0])-3):\n",
    "        for i in range(len(s)-3):\n",
    "            right_diag = [s[i][j], s[i+1][j+1], s[i+2][j+2], s[i+3][j+3]]\n",
    "            score += eval_adjacent(right_diag, player)\n",
    "\n",
    "    # check heuristic along left diagonal\n",
    "    for j in range(3,len(s[0])):\n",
    "        for i in range(len(s)-3):\n",
    "            left_diag = [s[i][j], s[i+1][j-1], s[i+2][j-2], s[i+3][j-3]]\n",
    "            score += eval_adjacent(left_diag, player)\n",
    "\n",
    "    return score, False"
   ]
  },
  {
   "cell_type": "markdown",
   "metadata": {},
   "source": [
    "### Cutting Off Search [10 points]\n",
    "\n",
    "Modify your minimax search with alpha-beta pruning to cut off search at a specified depth and use the heuristic evaluation function. Experiment with different cutoff values."
   ]
  },
  {
   "cell_type": "code",
   "execution_count": 37,
   "metadata": {},
   "outputs": [],
   "source": [
    "def alpha_beta_search_cutoff(board, cutoff = None, player = 1):\n",
    "    value, move = max_value_ab_cutoff(board, player, -math.inf, +math.inf, 0, cutoff)\n",
    "    return {\"move\" : move, \"value\" : value}\n",
    "\n",
    "def max_value_ab_cutoff(state, player, alpha, beta, depth, cutoff):\n",
    "    v, game_end = eval_fun(state, player)\n",
    "    if((cutoff != None and depth >= cutoff) or game_end):\n",
    "        if game_end:\n",
    "            alpha, beta = v, v\n",
    "        return v, None\n",
    "    \n",
    "    v, move = -math.inf, None\n",
    "\n",
    "    for a in actions(state):\n",
    "        v2, a2 = min_value_ab_cutoff(result(state, player, a), player, alpha, beta, depth+1, cutoff)\n",
    "        if v2 >v:\n",
    "            v, move = v2, a\n",
    "            alpha = max(alpha, v)\n",
    "        if v>= beta: return v, move\n",
    "\n",
    "    return v, move\n",
    "\n",
    "def min_value_ab_cutoff(state, player, alpha, beta, depth, cutoff):\n",
    "    v, game_end = eval_fun(state, player)\n",
    "    if((cutoff != None and depth >= cutoff) or game_end):\n",
    "        if game_end:\n",
    "            alpha, beta = v, v\n",
    "        return v, None\n",
    "    \n",
    "    v, move = +math.inf, None\n",
    "\n",
    "    for a in actions(state):\n",
    "        v2, a2 = max_value_ab_cutoff(result(state, other(player), a), player, alpha, beta, depth+1, cutoff)\n",
    "        if v2 < v:\n",
    "            v, move = v2, a\n",
    "            beta = min(beta, v)\n",
    "        if v <= alpha: return v, move\n",
    "\n",
    "    return v, move"
   ]
  },
  {
   "cell_type": "code",
   "execution_count": 38,
   "metadata": {},
   "outputs": [],
   "source": [
    "# alpha beta search with opening moves\n",
    "def alpha_beta_search_cutoff_opening(board, cutoff = None, player = 1):\n",
    "    b = np.copy(board)\n",
    "    if np.count_nonzero(b) < 6:\n",
    "        a, v = opening(board,player)\n",
    "        # keep same signature as regular return\n",
    "        return {\"move\": a, \"value\": v}\n",
    "                \n",
    "    value, move = max_value_ab_cutoff(board, player, -math.inf, +math.inf, 0, cutoff)\n",
    "    return {\"move\": move, \"value\": value}"
   ]
  },
  {
   "cell_type": "code",
   "execution_count": 40,
   "metadata": {},
   "outputs": [
    {
     "data": {
      "image/png": "[encoded data removed]",
      "text/plain": [
       "<Figure size 640x480 with 1 Axes>"
      ]
     },
     "metadata": {},
     "output_type": "display_data"
    },
    {
     "data": {
      "text/plain": [
       "{'move': (4, 4), 'value': 1.624999999999999}"
      ]
     },
     "metadata": {},
     "output_type": "display_data"
    },
    {
     "name": "stdout",
     "output_type": "stream",
     "text": [
      "CPU times: total: 9.66 s\n",
      "Wall time: 12.1 s\n"
     ]
    }
   ],
   "source": [
    "# cutoff = 5\n",
    "board = [[0, 0, 0, 0, 0, 0, 0],\n",
    "         [0, 0, 0, 0, 0, 0, 0],\n",
    "         [0, 0, 0, 0, 0, 0, 0],\n",
    "         [0, 0, 0, 1, 0, 0, 0],\n",
    "         [0, 0, 0, 1, 0, 0, 0],\n",
    "         [0,-1,-1, 1,-1, 0, 0]]\n",
    "visualize(board)\n",
    "\n",
    "%time display(alpha_beta_search_cutoff_opening(board, cutoff=8))"
   ]
  },
  {
   "cell_type": "code",
   "execution_count": 41,
   "metadata": {},
   "outputs": [
    {
     "data": {
      "text/plain": [
       "{'move': (5, 3), 'value': 0.6750000000000003}"
      ]
     },
     "metadata": {},
     "output_type": "display_data"
    },
    {
     "name": "stdout",
     "output_type": "stream",
     "text": [
      "CPU times: total: 359 ms\n",
      "Wall time: 382 ms\n"
     ]
    }
   ],
   "source": [
    "# cutoff = 5\n",
    "board = [[0, 0, 0, 0, 0, 0, 0],\n",
    "         [0, 0, 0, 0, 0, 0, 0],\n",
    "         [0, 0, 0, 0, 0, 0, 0],\n",
    "         [0, 0, 0, 0, 0, 0, 0],\n",
    "         [0, 0, 0, 0, 0, 0, 0],\n",
    "         [0, 0, 0, 0, 0, 0, 0]]\n",
    "\n",
    "%time display(alpha_beta_search_cutoff(board, cutoff=5))"
   ]
  },
  {
   "cell_type": "markdown",
   "metadata": {},
   "source": [
    "Experiment with the same manually created boards as above to check if the agent spots wining opportunities."
   ]
  },
  {
   "cell_type": "code",
   "execution_count": 42,
   "metadata": {},
   "outputs": [
    {
     "data": {
      "image/png": "[encoded data removed]",
      "text/plain": [
       "<Figure size 640x480 with 1 Axes>"
      ]
     },
     "metadata": {},
     "output_type": "display_data"
    },
    {
     "data": {
      "text/plain": [
       "{'move': (4, 4), 'value': 1.624999999999999}"
      ]
     },
     "metadata": {},
     "output_type": "display_data"
    },
    {
     "name": "stdout",
     "output_type": "stream",
     "text": [
      "CPU times: total: 8.22 s\n",
      "Wall time: 9.46 s\n"
     ]
    }
   ],
   "source": [
    "# board 1\n",
    "board = [[0, 0, 0, 0, 0, 0, 0],\n",
    "         [0, 0, 0, 0, 0, 0, 0],\n",
    "         [0, 0, 0, 0, 0, 0, 0],\n",
    "         [0, 0, 0, 1, 0, 0, 0],\n",
    "         [0, 0, 0, 1, 0, 0, 0],\n",
    "         [0,-1,-1, 1,-1, 0, 0]]\n",
    "visualize(board)\n",
    "%time display(alpha_beta_search_cutoff_opening(board, cutoff=8))"
   ]
  },
  {
   "cell_type": "code",
   "execution_count": 43,
   "metadata": {},
   "outputs": [
    {
     "data": {
      "image/png": "[encoded data removed]",
      "text/plain": [
       "<Figure size 640x480 with 1 Axes>"
      ]
     },
     "metadata": {},
     "output_type": "display_data"
    },
    {
     "data": {
      "text/plain": [
       "{'move': (2, 2), 'value': 1.7499999999999991}"
      ]
     },
     "metadata": {},
     "output_type": "display_data"
    },
    {
     "name": "stdout",
     "output_type": "stream",
     "text": [
      "CPU times: total: 19.2 s\n",
      "Wall time: 21.8 s\n"
     ]
    }
   ],
   "source": [
    "# board 2\n",
    "board = [[0, 0, 0, 0, 0, 0, 0],\n",
    "         [0, 0, 0, 0, 0, 0, 0],\n",
    "         [0, 0, 0, 0, 0, 0, 0],\n",
    "         [0, 0, 1,-1, 0, 0, 0],\n",
    "         [0, 0,-1,-1, 1, 0, 0],\n",
    "         [0, 1, 1, 1,-1, 0, 0]]\n",
    "visualize(board)\n",
    "%time display(alpha_beta_search_cutoff_opening(board, cutoff=8))"
   ]
  },
  {
   "cell_type": "code",
   "execution_count": 44,
   "metadata": {},
   "outputs": [
    {
     "data": {
      "image/png": "[encoded data removed]",
      "text/plain": [
       "<Figure size 640x480 with 1 Axes>"
      ]
     },
     "metadata": {},
     "output_type": "display_data"
    },
    {
     "data": {
      "text/plain": [
       "{'move': (2, 4), 'value': 1.2249999999999994}"
      ]
     },
     "metadata": {},
     "output_type": "display_data"
    },
    {
     "name": "stdout",
     "output_type": "stream",
     "text": [
      "CPU times: total: 9.02 s\n",
      "Wall time: 10.1 s\n"
     ]
    }
   ],
   "source": [
    "# board 3\n",
    "board = [[0, 0, 0, 0, 0, 0, 0],\n",
    "         [0, 0, 0, 0, 0, 0, 0],\n",
    "         [0, 0, 0, 0, 0, 0, 0],\n",
    "         [0, 0, 0, 0,-1, 0, 1],\n",
    "         [0, 0, 0, 0,-1, 0, 1],\n",
    "         [0, 0, 0, 0,-1, 0, 1]]\n",
    "visualize(board)\n",
    "%time display(alpha_beta_search_cutoff_opening(board, cutoff=8))"
   ]
  },
  {
   "cell_type": "code",
   "execution_count": 45,
   "metadata": {},
   "outputs": [
    {
     "data": {
      "image/png": "[encoded data removed]",
      "text/plain": [
       "<Figure size 640x480 with 1 Axes>"
      ]
     },
     "metadata": {},
     "output_type": "display_data"
    },
    {
     "data": {
      "text/plain": [
       "{'move': (3, 3), 'value': -1}"
      ]
     },
     "metadata": {},
     "output_type": "display_data"
    },
    {
     "name": "stdout",
     "output_type": "stream",
     "text": [
      "CPU times: total: 11.6 s\n",
      "Wall time: 13.2 s\n"
     ]
    }
   ],
   "source": [
    "# board 4\n",
    "board = [[0, 0, 0, 0, 0, 0, 0],\n",
    "         [0, 0, 0, 0, 0, 0, 0],\n",
    "         [0, 0, 0, 0, 0, 0, 0],\n",
    "         [1,-1, 0, 0,-1, 1,-1],\n",
    "         [-1,1,-1, 1,-1, 1,-1],\n",
    "         [1,-1, 1,-1, 1,-1, 1]]\n",
    "visualize(board)\n",
    "%time display(alpha_beta_search_cutoff_opening(board, cutoff=8))"
   ]
  },
  {
   "cell_type": "code",
   "execution_count": 46,
   "metadata": {},
   "outputs": [
    {
     "data": {
      "image/png": "[encoded data removed]",
      "text/plain": [
       "<Figure size 640x480 with 1 Axes>"
      ]
     },
     "metadata": {},
     "output_type": "display_data"
    },
    {
     "data": {
      "text/plain": [
       "{'move': (2, 3), 'value': 2.3249999999999984}"
      ]
     },
     "metadata": {},
     "output_type": "display_data"
    },
    {
     "name": "stdout",
     "output_type": "stream",
     "text": [
      "CPU times: total: 27.9 s\n",
      "Wall time: 30.4 s\n"
     ]
    }
   ],
   "source": [
    "# board 5\n",
    "board = [[0, 0, 0, 0, 0, 0, 0],\n",
    "         [0, 0, 0, 0, 0, 0, 0],\n",
    "         [0, 0, 1, 0, 0, 0, 0],\n",
    "         [0, 0,-1, 1,-1, 0, 0],\n",
    "         [0, 1,-1,-1, 1, 0, 0],\n",
    "         [1,-1, 1, 1,-1, 0, 0]]\n",
    "visualize(board)\n",
    "%time display(alpha_beta_search_cutoff_opening(board, cutoff=10))"
   ]
  },
  {
   "cell_type": "markdown",
   "metadata": {},
   "source": [
    "How long does it take to make a move? Start with a smaller board with 4 columns and make the board larger by adding columns."
   ]
  },
  {
   "cell_type": "markdown",
   "metadata": {},
   "source": [
    "### Playtime [5 points]\n",
    "\n",
    "Let two heuristic search agents (different cutoff depth) compete against each other on a reasonably sized board. Since there is no randomness, you only need to let them play once."
   ]
  },
  {
   "cell_type": "code",
   "execution_count": null,
   "metadata": {},
   "outputs": [],
   "source": []
  },
  {
   "cell_type": "markdown",
   "metadata": {},
   "source": [
    "## Challenge task [up to +10 bonus point will be awarded separately]\n",
    "\n",
    "Find another student and let your best agent play against the other student's best player. We will set up a class tournament on Canvas. This tournament will continue after the submission deadline."
   ]
  },
  {
   "cell_type": "markdown",
   "metadata": {},
   "source": [
    "## Graduate student advanced task: Pure Monte Carlo Search and Best First Move [10 point]\n",
    "\n",
    "__Undergraduate students:__ This is a bonus task you can attempt if you like [+5 bonus point].\n",
    "\n",
    "### Pure Monte Carlo Search\n",
    "\n",
    "Implement Pure Monte Carlo Search and investigate how this search performs on the test boards that you have used above. "
   ]
  },
  {
   "cell_type": "code",
   "execution_count": 20,
   "metadata": {},
   "outputs": [],
   "source": [
    "# Your code/ answer goes here."
   ]
  },
  {
   "cell_type": "markdown",
   "metadata": {},
   "source": [
    "### Best First Move\n",
    "\n",
    "Use your Monte Carlo Search to determine what the best first move for red is? Describe under what assumptions this is the \"best\" first move.  "
   ]
  },
  {
   "cell_type": "code",
   "execution_count": 21,
   "metadata": {},
   "outputs": [],
   "source": [
    "# Your code/ answer goes here."
   ]
  }
 ],
 "metadata": {
  "kernelspec": {
   "display_name": "base",
   "language": "python",
   "name": "python3"
  },
  "language_info": {
   "codemirror_mode": {
    "name": "ipython",
    "version": 3
   },
   "file_extension": ".py",
   "mimetype": "text/x-python",
   "name": "python",
   "nbconvert_exporter": "python",
   "pygments_lexer": "ipython3",
   "version": "3.12.4"
  }
 },
 "nbformat": 4,
 "nbformat_minor": 4
}
