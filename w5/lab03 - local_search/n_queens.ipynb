{
 "cells": [
  {
   "cell_type": "markdown",
   "metadata": {},
   "source": [
    "# Solving the n-Queens Problem using Local Search\n",
    "\n",
    "Student Name: [Nguyen Khai Ca]\n",
    "\n",
    "I have used the following AI tools: [list tools]\n",
    "\n",
    "I understand that my submission needs to be my own work: [NKC]\n"
   ]
  },
  {
   "cell_type": "markdown",
   "metadata": {},
   "source": [
    "## Learning Outcomes\n",
    "\n",
    "* Implement multiple hill climbing search variants to solve the n-Queens problem.\n",
    "* Apply simulated annealing with appropriate temperature scheduling to overcome local optima.\n",
    "* Compare algorithm performance using runtime, solution quality, and success rate metrics.\n",
    "* Analyze and visualize algorithm performance across different problem sizes.\n",
    "* Graduate Students: Design and test alternative local move operators to improve search efficiency."
   ]
  },
  {
   "cell_type": "markdown",
   "metadata": {},
   "source": [
    "## Instructions\n",
    "\n",
    "Total Points: Undergrads 100 + 5 bonus / Graduate students 110\n",
    "\n",
    "Complete this notebook. Use the provided notebook cells and insert additional code and markdown cells as needed. Submit the completely rendered notebook as a HTML file. "
   ]
  },
  {
   "cell_type": "markdown",
   "metadata": {},
   "source": [
    "## The n-Queens Problem\n",
    "\n",
    "* __Goal:__ Find an arrangement of $n$ queens on a $n \\times n$ chess board so that no queen is on the same row, column or diagonal as any other queen.\n",
    "\n",
    "* __State space:__ An arrangement of the queens on the board. We restrict the state space to arrangements where there is only a single queen per column. We represent a state as an integer vector $\\mathbf{q} = \\{q_1, q_2, \\dots, q_n\\}$, each number representing the row positions of the queens from left to right. We will call a state a \"board.\"\n",
    "\n",
    "* __Objective function:__ The number of pairwise conflicts (i.e., two queens in the same row/column/diagonal).\n",
    "The optimization problem is to find the optimal arrangement $\\mathbf{q}^*$ of $n$ queens on the board can be written as:\n",
    "\n",
    "  > minimize: $\\mathrm{conflicts}(\\mathbf{q})$\n",
    "  >\n",
    "  > subject to: $\\mathbf{q} \\ \\text{contains only one queen per column}$\n",
    "\n",
    "  Note: the constraint (subject to) is enforced by the definition of the state space.\n",
    "\n",
    "* __Local improvement move:__ Move one queen to a different row in its column.\n",
    "\n",
    "* __Termination:__ For this problem there is always an arrangement $\\mathbf{q}^*$ with $\\mathrm{conflicts}(\\mathbf{q}^*) = 0$, however, the local improvement moves might end up in a local minimum. "
   ]
  },
  {
   "cell_type": "markdown",
   "metadata": {},
   "source": [
    "## Helper functions"
   ]
  },
  {
   "cell_type": "code",
   "execution_count": 6,
   "metadata": {},
   "outputs": [],
   "source": [
    "import numpy as np\n",
    "import matplotlib.pyplot as plt\n",
    "from matplotlib import colors\n",
    "import random\n",
    "import pandas as pd\n",
    "import math\n",
    "\n",
    "np.random.seed(1234)\n",
    "\n",
    "\n",
    "def random_board(n):\n",
    "    \"\"\"Creates a random board of size n x n. Note that only a single queen is placed in each column!\"\"\"\n",
    "\n",
    "    return(np.random.randint(0,n, size = n))\n",
    "\n",
    "def comb2(n): return n*(n-1)//2 # this is n choose 2 equivalent to math.comb(n, 2); // is int division\n",
    "\n",
    "def conflicts(board):\n",
    "    \"\"\"Calculate the number of conflicts, i.e., the objective function.\"\"\"\n",
    "\n",
    "    n = len(board)\n",
    "\n",
    "    horizontal_cnt = [0] * n\n",
    "    diagonal1_cnt = [0] * 2 * n\n",
    "    diagonal2_cnt = [0] * 2 * n\n",
    "\n",
    "    for i in range(n):\n",
    "        horizontal_cnt[board[i]] += 1\n",
    "        diagonal1_cnt[i + board[i]] += 1\n",
    "        diagonal2_cnt[i - board[i] + n] += 1\n",
    "\n",
    "    return sum(map(comb2, horizontal_cnt + diagonal1_cnt + diagonal2_cnt))\n",
    "\n",
    "# decrease the fontsize to fit larger boards\n",
    "def show_board(board, cols = ['white', 'gray'], fontsize = 48):\n",
    "    \"\"\"display the board\"\"\"\n",
    "\n",
    "    n = len(board)\n",
    "\n",
    "    # create chess board display\n",
    "    display = np.zeros([n,n])\n",
    "    for i in range(n):\n",
    "        for j in range(n):\n",
    "            if (((i+j) % 2) != 0):\n",
    "                display[i,j] = 1\n",
    "\n",
    "    cmap = colors.ListedColormap(cols)\n",
    "    fig, ax = plt.subplots()\n",
    "    ax.imshow(display, cmap = cmap,\n",
    "              norm = colors.BoundaryNorm(range(len(cols)+1), cmap.N))\n",
    "    ax.set_xticks([])\n",
    "    ax.set_yticks([])\n",
    "\n",
    "    # place queens. Note: Unicode u265B is a black queen\n",
    "    for j in range(n):\n",
    "        plt.text(j, board[j], u\"\\u265B\", fontsize = fontsize,\n",
    "                 horizontalalignment = 'center',\n",
    "                 verticalalignment = 'center')\n",
    "\n",
    "    print(f\"Board with {conflicts(board)} conflicts.\")\n",
    "    plt.show()"
   ]
  },
  {
   "cell_type": "markdown",
   "metadata": {},
   "source": [
    "## Create a board"
   ]
  },
  {
   "cell_type": "code",
   "execution_count": 5,
   "metadata": {},
   "outputs": [
    {
     "name": "stdout",
     "output_type": "stream",
     "text": [
      "Board with 9 conflicts.\n"
     ]
    },
    {
     "data": {
      "image/png": "[encoded data removed]",
      "text/plain": [
       "<Figure size 640x480 with 1 Axes>"
      ]
     },
     "metadata": {},
     "output_type": "display_data"
    },
    {
     "name": "stdout",
     "output_type": "stream",
     "text": [
      "Queens (left to right) are at rows: [9 6 2 0 5 2 6 3 7 0]\n",
      "Number of conflicts: 9\n"
     ]
    }
   ],
   "source": [
    "board = random_board(10)\n",
    "\n",
    "show_board(board)\n",
    "print(f\"Queens (left to right) are at rows: {board}\")\n",
    "print(f\"Number of conflicts: {conflicts(board)}\")"
   ]
  },
  {
   "cell_type": "markdown",
   "metadata": {},
   "source": [
    "A board $4 \\times 4$ with no conflicts:"
   ]
  },
  {
   "cell_type": "markdown",
   "metadata": {},
   "source": [
    "board = [1,0,3,2]\n",
    "show_board(board)"
   ]
  },
  {
   "cell_type": "markdown",
   "metadata": {},
   "source": [
    "# Tasks\n",
    "\n",
    "## General [10 Points]\n",
    "\n",
    "1. Make sure that you use the latest version of this notebook. Sync your forked repository and pull the latest revision. \n",
    "2. Your implementation can use libraries like math, numpy, scipy, but not libraries that implement intelligent agents or complete search algorithms. Try to keep the code simple! In this course, we want to learn about the algorithms and we often do not need to use object-oriented design.\n",
    "3. You notebook needs to be formatted professionally. \n",
    "    - Add additional markdown blocks for your description, comments in the code, add tables and use mathplotlib to produce charts where appropriate\n",
    "    - Do not show debugging output or include an excessive amount of output.\n",
    "    - Check that your submitted file is readable and contains all figures.\n",
    "4. Document your code. Use comments in the code and add a discussion of how your implementation works and your design choices."
   ]
  },
  {
   "cell_type": "markdown",
   "metadata": {},
   "source": [
    "## Task 1: Steepest-ascend Hill Climbing Search [20 Points]\n",
    "\n",
    "Calculate the objective function for all local moves (see definition of local moves above) and always choose the best among all local moves. If there are no local moves that improve the objective, then you have reached a local optimum. "
   ]
  },
  {
   "cell_type": "code",
   "execution_count": 37,
   "metadata": {},
   "outputs": [],
   "source": [
    "def steepest(board, verb = True):\n",
    "    # tạo một bàn cờ copy\n",
    "    bc = np.copy(board)\n",
    "\n",
    "    # while sol là đúng\n",
    "    sol = True\n",
    "    opt = False\n",
    "    while sol:\n",
    "        nbr_dict = {}\n",
    "        nbr = np.copy(bc)\n",
    "        # nested for loop to loop through each column and row\n",
    "        for i in range(len(bc)):\n",
    "            for j in range(len(bc)):\n",
    "                # change col i to value j\n",
    "                nbr[i] = j\n",
    "                # if conflicts less than board copy add to dict\n",
    "                if conflicts(nbr) <= conflicts(bc):\n",
    "                    nbr_dict[conflicts(nbr)] = nbr\n",
    "                # reestablish neighbor board to have same starting point\n",
    "                nbr = np.copy(bc)\n",
    "        # if local min found, stop\n",
    "        if conflicts(bc) == min(nbr_dict.keys()):\n",
    "            if verb:\n",
    "                print('local optimum found, global optimum not found')\n",
    "            sol = False\n",
    "        # board copy is the neighbor with the lowest conflicts\n",
    "        bc = nbr_dict[min(nbr_dict.keys())]\n",
    "        # if conflicts is zero, global optimum found, stop\n",
    "        if conflicts(bc) == 0:\n",
    "            if verb:\n",
    "                print('global/local optimum found')\n",
    "            opt = True\n",
    "            sol = False\n",
    "    return [opt,bc]"
   ]
  },
  {
   "cell_type": "code",
   "execution_count": 38,
   "metadata": {},
   "outputs": [
    {
     "name": "stdout",
     "output_type": "stream",
     "text": [
      "local optimum found, global optimum not found\n"
     ]
    },
    {
     "data": {
      "text/plain": [
       "[False, array([3, 0, 2, 1], dtype=int32)]"
      ]
     },
     "execution_count": 38,
     "metadata": {},
     "output_type": "execute_result"
    }
   ],
   "source": [
    "board = random_board(4)\n",
    "steepest(board)"
   ]
  },
  {
   "cell_type": "markdown",
   "metadata": {},
   "source": [
    "## Task 2: Stochastic Hill Climbing 1 [10 Points]\n",
    "\n",
    "Chooses randomly from among all uphill moves till you have reached a local optimum."
   ]
  },
  {
   "cell_type": "code",
   "execution_count": 39,
   "metadata": {},
   "outputs": [],
   "source": [
    "def stochastic(board, verb = True):\n",
    "    bc = np.copy(board)\n",
    "    sol = True\n",
    "    opt = False\n",
    "    while sol:\n",
    "        nbr_dict = {}\n",
    "        nbr = np.copy(bc)\n",
    "        for i in range(len(bc)):\n",
    "            for j in range(len(bc)):\n",
    "                nbr[i] = j\n",
    "                if conflicts(nbr) <= conflicts(bc):\n",
    "                    nbr_dict[conflicts(nbr)] = nbr\n",
    "                nbr = np.copy(bc)\n",
    "        if conflicts(bc) == min(nbr_dict.keys()):\n",
    "            if verb:\n",
    "                print('local optimum found, global optimum not found')\n",
    "            sol = False\n",
    "        # choose next board randomly from dict of neighbors\n",
    "        bc = nbr_dict[random.choice(list(nbr_dict.keys()))]\n",
    "        if conflicts(bc) == 0:\n",
    "            if verb:\n",
    "                print('global/local optimum found')\n",
    "            opt = True\n",
    "            sol = False\n",
    "    return [opt,bc]"
   ]
  },
  {
   "cell_type": "code",
   "execution_count": 44,
   "metadata": {},
   "outputs": [
    {
     "name": "stdout",
     "output_type": "stream",
     "text": [
      "global/local optimum found\n"
     ]
    },
    {
     "data": {
      "text/plain": [
       "[True, array([2, 0, 3, 1], dtype=int32)]"
      ]
     },
     "execution_count": 44,
     "metadata": {},
     "output_type": "execute_result"
    }
   ],
   "source": [
    "board = random_board(4)\n",
    "stochastic(board)"
   ]
  },
  {
   "cell_type": "markdown",
   "metadata": {},
   "source": [
    "## Task 3: Stochastic Hill Climbing 2 [20 Points]\n",
    "\n",
    "A popular version of stochastic hill climbing generates only a single random local neighbor at a time and accept it if it has a better objective function value than the current state. This is very efficient if each state has many possible successor states. This method is called \"First-choice hill climbing\" in the textbook.\n",
    "\n",
    "__Notes:__ \n",
    "\n",
    "* Detecting local optima is tricky! You can, for example, stop if you were not able to improve the objective function during the last $x$ tries."
   ]
  },
  {
   "cell_type": "code",
   "execution_count": 42,
   "metadata": {},
   "outputs": [],
   "source": [
    "def first_choice(board, verb = True, tries = 50):\n",
    "    bc = np.copy(board)\n",
    "    sol = True\n",
    "    opt = False\n",
    "    n = 0\n",
    "    while sol:\n",
    "        nbr = np.copy(bc)\n",
    "        length = [i for i in range(len(bc))]\n",
    "        # randomly shuffle rows and columns\n",
    "        random.shuffle(length)\n",
    "        for i in length:\n",
    "            find = False\n",
    "            random.shuffle(length)\n",
    "            for j in length:\n",
    "                nbr[i] = j\n",
    "                # if first choice has less conflicts than current board, board copy is first choice\n",
    "                if conflicts(nbr) < conflicts(bc):\n",
    "                    n = 0\n",
    "                    bc = np.copy(nbr)\n",
    "                    find = True\n",
    "                    break\n",
    "                # if conflicts of neighbor are greater than or equal to current board add one to n, if n is more than tries, found local optimum\n",
    "                elif conflicts(nbr) >= conflicts(bc):\n",
    "                    n += 1\n",
    "                    if n >= tries:\n",
    "                        find = True\n",
    "                        break\n",
    "                nbr = np.copy(bc)\n",
    "            if find:\n",
    "                break\n",
    "\n",
    "        if n >= tries:         \n",
    "            if verb:\n",
    "                print('local optimum found, global optimum not found')\n",
    "            sol = False\n",
    "\n",
    "        if conflicts(bc) == 0:\n",
    "            if verb:\n",
    "                print('global/local optimum found')\n",
    "            opt = True\n",
    "            sol = False\n",
    "    return [opt,bc]"
   ]
  },
  {
   "cell_type": "code",
   "execution_count": 43,
   "metadata": {},
   "outputs": [
    {
     "name": "stdout",
     "output_type": "stream",
     "text": [
      "global/local optimum found\n"
     ]
    },
    {
     "data": {
      "text/plain": [
       "[True, array([2, 0, 3, 1], dtype=int32)]"
      ]
     },
     "execution_count": 43,
     "metadata": {},
     "output_type": "execute_result"
    }
   ],
   "source": [
    "board = random_board(4)\n",
    "first_choice(board)"
   ]
  },
  {
   "cell_type": "markdown",
   "metadata": {},
   "source": [
    "## Task 4: Hill Climbing Search with Random Restarts [10 Points]\n",
    "\n",
    "Hill climbing will often end up in local optima. Restart the each of the three hill climbing algorithm up to 100 times with a random board to find a better (hopefully optimal) solution. Note that restart just means to run the algorithm several times starting with a new random board."
   ]
  },
  {
   "cell_type": "code",
   "execution_count": 45,
   "metadata": {},
   "outputs": [],
   "source": [
    "def random_restart(board, alg = steepest, verb = False, tries = 5, p = False):\n",
    "    bc = np.copy(board)\n",
    "    board_len = len(board)\n",
    "    sol = False\n",
    "    \n",
    "    if alg != first_choice:\n",
    "        # first argument returned from funnction is boolean for T/F\n",
    "        opt = alg(bc,verb)[0]\n",
    "        current_bc = alg(bc,verb)[1]\n",
    "        # if found optimum solution, return solution\n",
    "        if opt == True:\n",
    "            if p:\n",
    "                print('global/local optimum found')\n",
    "            return [opt,current_bc]\n",
    "        # else, create new random state and call function again\n",
    "        else:\n",
    "            # try 100 times to find an optimum solution\n",
    "            for i in range(100):\n",
    "                bc = np.copy(random_board(board_len))\n",
    "                opt = alg(bc,verb)[0]\n",
    "                current_bc = alg(bc,verb)[1]\n",
    "                if opt == False:\n",
    "                    continue\n",
    "                elif opt == True:\n",
    "                    sol = True\n",
    "                    if p:\n",
    "                        print('global/local optimum found')\n",
    "                    return [opt,current_bc]\n",
    "    # parameters for first_choice is different, so have different call to function\n",
    "    else:\n",
    "        opt = alg(bc,verb, tries)[0]\n",
    "        current_bc = alg(bc,verb, tries)[1]\n",
    "        if opt == True:\n",
    "            if p:\n",
    "                print('global/local optimum found')\n",
    "            return [opt,current_bc]\n",
    "        else:\n",
    "            for i in range(100):\n",
    "                bc = np.copy(random_board(board_len))\n",
    "                opt = alg(bc,verb,tries)[0]\n",
    "                current_bc = alg(bc,verb,tries)[1]\n",
    "                if opt == False:\n",
    "                    continue\n",
    "                elif opt == True:   \n",
    "                    sol = True\n",
    "                    if p:\n",
    "                        print('global/local optimum found')\n",
    "                    return [opt,current_bc]\n",
    "    # if optimum solution not found, sol = false and return local optimum solution\n",
    "    if sol == False:\n",
    "        if p:\n",
    "            print('local optimum found, global optimum not found')\n",
    "        return [opt,bc]"
   ]
  },
  {
   "cell_type": "code",
   "execution_count": 46,
   "metadata": {},
   "outputs": [
    {
     "data": {
      "text/plain": [
       "[True, array([2, 0, 3, 1], dtype=int32)]"
      ]
     },
     "execution_count": 46,
     "metadata": {},
     "output_type": "execute_result"
    }
   ],
   "source": [
    "board = random_board(4)\n",
    "random_restart(board, alg=first_choice)"
   ]
  },
  {
   "cell_type": "markdown",
   "metadata": {},
   "source": [
    "## Task 5: Simulated Annealing [10 Points]\n",
    "\n",
    "Simulated annealing is a form of stochastic hill climbing that avoid local optima by also allowing downhill moves with a probability proportional to a temperature. The temperature is decreased in every iteration following an annealing schedule. You have to experiment with the annealing schedule (Google to find guidance on this).\n",
    "\n",
    "\n",
    "1. Implement simulated annealing for the n-Queens problem.\n",
    "2. Create a visualization of the search process (a line chart of how the number if conflict changes as the algorithm progrsses).\n",
    "3. Use this visualization for experiments with different choices for the annealing schedule and discuss what you have learned."
   ]
  },
  {
   "cell_type": "code",
   "execution_count": 48,
   "metadata": {},
   "outputs": [],
   "source": [
    "def classic(t0, t):\n",
    "    return t0*(1/math.log(1+t))\n",
    "def fast(t0,t):\n",
    "    return t0*(1/(1+t))\n",
    "def exponential(t0,t,a):\n",
    "    if a < 0.8 or a > 1:\n",
    "        print('Improper a parameter. nằm trong khoảng 0.8 và 1 ')\n",
    "        return\n",
    "    return t0*(a**(t))\n",
    "def simulated_annealing(board, t0 = 20 , a = 0.99, ep = 0.01, schedule = exponential, verb = False):\n",
    "    bc = np.copy(board)\n",
    "    opt = False\n",
    "    t = 1\n",
    "\n",
    "    while t < math.inf:\n",
    "        # call schedule function\n",
    "        if schedule != exponential:\n",
    "            T = schedule(t0,t)\n",
    "        # exponential schedule is different\n",
    "        else:\n",
    "            T = schedule(t0,t,a)\n",
    "\n",
    "        # loop until T is less than epsilon parameter\n",
    "        if T < ep:\n",
    "            if conflicts(bc) == 0:\n",
    "                if verb:\n",
    "                    print('global/local optimum found')\n",
    "                opt = True\n",
    "                return [opt,bc]\n",
    "            if verb:\n",
    "                print('local optimum found, global optimum not found')\n",
    "            return [opt,bc]\n",
    "        nbr_dict = {}\n",
    "        nbr = np.copy(bc)\n",
    "        for i in range(len(bc)):\n",
    "            for j in range(len(bc)):\n",
    "                nbr[i] = j\n",
    "                nbr_dict[conflicts(nbr)] = nbr\n",
    "                nbr = np.copy(bc)\n",
    "        # randomly select successor of current\n",
    "        next = nbr_dict[random.choice(list(nbr_dict.keys()))]\n",
    "\n",
    "        # e is difference in conflicts\n",
    "        e = conflicts(bc) - conflicts(next)\n",
    "        # if e is greater thanb 0, take\n",
    "        if e > 0: \n",
    "            bc = np.copy(next)\n",
    "        # else, there is chance to take given cooling schedule\n",
    "        else: \n",
    "            prob = random.random()\n",
    "            if prob <= math.exp(e/T):\n",
    "                bc = np.copy(next)\n",
    "        t+=1"
   ]
  },
  {
   "cell_type": "code",
   "execution_count": 49,
   "metadata": {},
   "outputs": [
    {
     "data": {
      "text/plain": [
       "[True, array([2, 0, 3, 1], dtype=int32)]"
      ]
     },
     "execution_count": 49,
     "metadata": {},
     "output_type": "execute_result"
    }
   ],
   "source": [
    "board = random_board(4)\n",
    "simulated_annealing(board)"
   ]
  },
  {
   "cell_type": "code",
   "execution_count": 50,
   "metadata": {},
   "outputs": [
    {
     "data": {
      "text/plain": [
       "[True, array([2, 0, 3, 1], dtype=int32)]"
      ]
     },
     "execution_count": 50,
     "metadata": {},
     "output_type": "execute_result"
    }
   ],
   "source": [
    "board = random_board(4)\n",
    "simulated_annealing(board,schedule=fast)"
   ]
  },
  {
   "cell_type": "code",
   "execution_count": 51,
   "metadata": {},
   "outputs": [
    {
     "data": {
      "text/plain": [
       "[True, array([2, 0, 3, 1], dtype=int32)]"
      ]
     },
     "execution_count": 51,
     "metadata": {},
     "output_type": "execute_result"
    }
   ],
   "source": [
    "board = random_board(4)\n",
    "simulated_annealing(board, schedule = exponential)"
   ]
  },
  {
   "cell_type": "code",
   "execution_count": 52,
   "metadata": {},
   "outputs": [
    {
     "ename": "KeyboardInterrupt",
     "evalue": "",
     "output_type": "error",
     "traceback": [
      "\u001b[1;31m---------------------------------------------------------------------------\u001b[0m",
      "\u001b[1;31mKeyboardInterrupt\u001b[0m                         Traceback (most recent call last)",
      "Cell \u001b[1;32mIn[52], line 5\u001b[0m\n\u001b[0;32m      3\u001b[0m \u001b[38;5;66;03m# parameter tuning for schedule type\u001b[39;00m\n\u001b[0;32m      4\u001b[0m N \u001b[38;5;241m=\u001b[39m \u001b[38;5;241m100\u001b[39m\n\u001b[1;32m----> 5\u001b[0m classic_4 \u001b[38;5;241m=\u001b[39m \u001b[43mtimeit\u001b[49m\u001b[38;5;241;43m.\u001b[39;49m\u001b[43mtimeit\u001b[49m\u001b[43m(\u001b[49m\u001b[38;5;124;43m'\u001b[39;49m\u001b[38;5;124;43msimulated_annealing(random_board(4), schedule=classic, verb=False)\u001b[39;49m\u001b[38;5;124;43m'\u001b[39;49m\u001b[43m,\u001b[49m\u001b[43m \u001b[49m\u001b[43mnumber\u001b[49m\u001b[43m \u001b[49m\u001b[38;5;241;43m=\u001b[39;49m\u001b[43m \u001b[49m\u001b[43mN\u001b[49m\u001b[43m,\u001b[49m\u001b[43m \u001b[49m\u001b[38;5;28;43mglobals\u001b[39;49m\u001b[43m \u001b[49m\u001b[38;5;241;43m=\u001b[39;49m\u001b[43m \u001b[49m\u001b[38;5;28;43mglobals\u001b[39;49m\u001b[43m(\u001b[49m\u001b[43m)\u001b[49m\u001b[43m)\u001b[49m\n\u001b[0;32m      6\u001b[0m avg_classic_4 \u001b[38;5;241m=\u001b[39m (classic_4\u001b[38;5;241m/\u001b[39mN\u001b[38;5;241m*\u001b[39m\u001b[38;5;241m1e3\u001b[39m)\n\u001b[0;32m      8\u001b[0m fast_4 \u001b[38;5;241m=\u001b[39m timeit\u001b[38;5;241m.\u001b[39mtimeit(\u001b[38;5;124m'\u001b[39m\u001b[38;5;124msimulated_annealing(random_board(4), schedule=fast, verb=False)\u001b[39m\u001b[38;5;124m'\u001b[39m, number \u001b[38;5;241m=\u001b[39m N, \u001b[38;5;28mglobals\u001b[39m \u001b[38;5;241m=\u001b[39m \u001b[38;5;28mglobals\u001b[39m())\n",
      "File \u001b[1;32md:\\cache\\Lib\\timeit.py:237\u001b[0m, in \u001b[0;36mtimeit\u001b[1;34m(stmt, setup, timer, number, globals)\u001b[0m\n\u001b[0;32m    234\u001b[0m \u001b[38;5;28;01mdef\u001b[39;00m \u001b[38;5;21mtimeit\u001b[39m(stmt\u001b[38;5;241m=\u001b[39m\u001b[38;5;124m\"\u001b[39m\u001b[38;5;124mpass\u001b[39m\u001b[38;5;124m\"\u001b[39m, setup\u001b[38;5;241m=\u001b[39m\u001b[38;5;124m\"\u001b[39m\u001b[38;5;124mpass\u001b[39m\u001b[38;5;124m\"\u001b[39m, timer\u001b[38;5;241m=\u001b[39mdefault_timer,\n\u001b[0;32m    235\u001b[0m            number\u001b[38;5;241m=\u001b[39mdefault_number, \u001b[38;5;28mglobals\u001b[39m\u001b[38;5;241m=\u001b[39m\u001b[38;5;28;01mNone\u001b[39;00m):\n\u001b[0;32m    236\u001b[0m \u001b[38;5;250m    \u001b[39m\u001b[38;5;124;03m\"\"\"Convenience function to create Timer object and call timeit method.\"\"\"\u001b[39;00m\n\u001b[1;32m--> 237\u001b[0m     \u001b[38;5;28;01mreturn\u001b[39;00m \u001b[43mTimer\u001b[49m\u001b[43m(\u001b[49m\u001b[43mstmt\u001b[49m\u001b[43m,\u001b[49m\u001b[43m \u001b[49m\u001b[43msetup\u001b[49m\u001b[43m,\u001b[49m\u001b[43m \u001b[49m\u001b[43mtimer\u001b[49m\u001b[43m,\u001b[49m\u001b[43m \u001b[49m\u001b[38;5;28;43mglobals\u001b[39;49m\u001b[43m)\u001b[49m\u001b[38;5;241;43m.\u001b[39;49m\u001b[43mtimeit\u001b[49m\u001b[43m(\u001b[49m\u001b[43mnumber\u001b[49m\u001b[43m)\u001b[49m\n",
      "File \u001b[1;32md:\\cache\\Lib\\timeit.py:180\u001b[0m, in \u001b[0;36mTimer.timeit\u001b[1;34m(self, number)\u001b[0m\n\u001b[0;32m    178\u001b[0m gc\u001b[38;5;241m.\u001b[39mdisable()\n\u001b[0;32m    179\u001b[0m \u001b[38;5;28;01mtry\u001b[39;00m:\n\u001b[1;32m--> 180\u001b[0m     timing \u001b[38;5;241m=\u001b[39m \u001b[38;5;28;43mself\u001b[39;49m\u001b[38;5;241;43m.\u001b[39;49m\u001b[43minner\u001b[49m\u001b[43m(\u001b[49m\u001b[43mit\u001b[49m\u001b[43m,\u001b[49m\u001b[43m \u001b[49m\u001b[38;5;28;43mself\u001b[39;49m\u001b[38;5;241;43m.\u001b[39;49m\u001b[43mtimer\u001b[49m\u001b[43m)\u001b[49m\n\u001b[0;32m    181\u001b[0m \u001b[38;5;28;01mfinally\u001b[39;00m:\n\u001b[0;32m    182\u001b[0m     \u001b[38;5;28;01mif\u001b[39;00m gcold:\n",
      "File \u001b[1;32m<timeit-src>:6\u001b[0m, in \u001b[0;36minner\u001b[1;34m(_it, _timer)\u001b[0m\n",
      "Cell \u001b[1;32mIn[48], line 44\u001b[0m, in \u001b[0;36msimulated_annealing\u001b[1;34m(board, t0, a, ep, schedule, verb)\u001b[0m\n\u001b[0;32m     41\u001b[0m \u001b[38;5;28mnext\u001b[39m \u001b[38;5;241m=\u001b[39m nbr_dict[random\u001b[38;5;241m.\u001b[39mchoice(\u001b[38;5;28mlist\u001b[39m(nbr_dict\u001b[38;5;241m.\u001b[39mkeys()))]\n\u001b[0;32m     43\u001b[0m \u001b[38;5;66;03m# e is difference in conflicts\u001b[39;00m\n\u001b[1;32m---> 44\u001b[0m e \u001b[38;5;241m=\u001b[39m \u001b[43mconflicts\u001b[49m\u001b[43m(\u001b[49m\u001b[43mbc\u001b[49m\u001b[43m)\u001b[49m \u001b[38;5;241m-\u001b[39m conflicts(\u001b[38;5;28mnext\u001b[39m)\n\u001b[0;32m     45\u001b[0m \u001b[38;5;66;03m# if e is greater thanb 0, take\u001b[39;00m\n\u001b[0;32m     46\u001b[0m \u001b[38;5;28;01mif\u001b[39;00m e \u001b[38;5;241m>\u001b[39m \u001b[38;5;241m0\u001b[39m: \n",
      "Cell \u001b[1;32mIn[36], line 30\u001b[0m, in \u001b[0;36mconflicts\u001b[1;34m(board)\u001b[0m\n\u001b[0;32m     28\u001b[0m     horizontal_cnt[board[i]] \u001b[38;5;241m+\u001b[39m\u001b[38;5;241m=\u001b[39m \u001b[38;5;241m1\u001b[39m\n\u001b[0;32m     29\u001b[0m     diagonal1_cnt[i \u001b[38;5;241m+\u001b[39m board[i]] \u001b[38;5;241m+\u001b[39m\u001b[38;5;241m=\u001b[39m \u001b[38;5;241m1\u001b[39m\n\u001b[1;32m---> 30\u001b[0m     diagonal2_cnt[i \u001b[38;5;241m-\u001b[39m board[i] \u001b[38;5;241m+\u001b[39m n] \u001b[38;5;241m+\u001b[39m\u001b[38;5;241m=\u001b[39m \u001b[38;5;241m1\u001b[39m\n\u001b[0;32m     32\u001b[0m \u001b[38;5;28;01mreturn\u001b[39;00m \u001b[38;5;28msum\u001b[39m(\u001b[38;5;28mmap\u001b[39m(comb2, horizontal_cnt \u001b[38;5;241m+\u001b[39m diagonal1_cnt \u001b[38;5;241m+\u001b[39m diagonal2_cnt))\n",
      "\u001b[1;31mKeyboardInterrupt\u001b[0m: "
     ]
    }
   ],
   "source": [
    "import timeit\n",
    "\n",
    "# parameter tuning for schedule type\n",
    "N = 100\n",
    "classic_4 = timeit.timeit('simulated_annealing(random_board(4), schedule=classic, verb=False)', number = N, globals = globals())\n",
    "avg_classic_4 = (classic_4/N*1e3)\n",
    "\n",
    "fast_4 = timeit.timeit('simulated_annealing(random_board(4), schedule=fast, verb=False)', number = N, globals = globals())\n",
    "avg_fast_4 = (fast_4/N*1e3)\n",
    "\n",
    "exponential_4 = timeit.timeit('simulated_annealing(random_board(4), schedule=exponential, verb=False)', number = N, globals = globals())\n",
    "avg_exponential_4 = (exponential_4/N*1e3)"
   ]
  },
  {
   "cell_type": "code",
   "execution_count": 53,
   "metadata": {},
   "outputs": [
    {
     "ename": "NameError",
     "evalue": "name 'avg_classic_4' is not defined",
     "output_type": "error",
     "traceback": [
      "\u001b[1;31m---------------------------------------------------------------------------\u001b[0m",
      "\u001b[1;31mNameError\u001b[0m                                 Traceback (most recent call last)",
      "Cell \u001b[1;32mIn[53], line 2\u001b[0m\n\u001b[0;32m      1\u001b[0m schedules \u001b[38;5;241m=\u001b[39m [classic, fast, exponential]\n\u001b[1;32m----> 2\u001b[0m times \u001b[38;5;241m=\u001b[39m [\u001b[43mavg_classic_4\u001b[49m, avg_fast_4, avg_exponential_4]\n\u001b[0;32m      4\u001b[0m idx \u001b[38;5;241m=\u001b[39m \u001b[38;5;241m-\u001b[39m\u001b[38;5;241m1\u001b[39m\n\u001b[0;32m      5\u001b[0m \u001b[38;5;66;03m# fast has the fastest runtime of 1.3 ms followed by exponential at 3.06 ms\u001b[39;00m\n",
      "\u001b[1;31mNameError\u001b[0m: name 'avg_classic_4' is not defined"
     ]
    }
   ],
   "source": [
    "schedules = [classic, fast, exponential]\n",
    "times = [avg_classic_4, avg_fast_4, avg_exponential_4]\n",
    "\n",
    "idx = -1\n",
    "# fast has the fastest runtime of 1.3 ms followed by exponential at 3.06 ms\n",
    "for schedule in schedules:\n",
    "    idx += 1\n",
    "    print(f'Schedule {schedule} has a runtime of {times[idx]}')"
   ]
  },
  {
   "cell_type": "code",
   "execution_count": 54,
   "metadata": {},
   "outputs": [
    {
     "ename": "KeyboardInterrupt",
     "evalue": "",
     "output_type": "error",
     "traceback": [
      "\u001b[1;31m---------------------------------------------------------------------------\u001b[0m",
      "\u001b[1;31mKeyboardInterrupt\u001b[0m                         Traceback (most recent call last)",
      "Cell \u001b[1;32mIn[54], line 9\u001b[0m\n\u001b[0;32m      7\u001b[0m     idx \u001b[38;5;241m+\u001b[39m\u001b[38;5;241m=\u001b[39m \u001b[38;5;241m1\u001b[39m\n\u001b[0;32m      8\u001b[0m     \u001b[38;5;28;01mfor\u001b[39;00m i \u001b[38;5;129;01min\u001b[39;00m \u001b[38;5;28mrange\u001b[39m(N):\n\u001b[1;32m----> 9\u001b[0m         \u001b[38;5;28;01mif\u001b[39;00m \u001b[43msimulated_annealing\u001b[49m\u001b[43m(\u001b[49m\u001b[43mrandom_board\u001b[49m\u001b[43m(\u001b[49m\u001b[38;5;241;43m4\u001b[39;49m\u001b[43m)\u001b[49m\u001b[43m,\u001b[49m\u001b[43m \u001b[49m\u001b[43mschedule\u001b[49m\u001b[38;5;241;43m=\u001b[39;49m\u001b[43mschedule\u001b[49m\u001b[43m,\u001b[49m\u001b[43m \u001b[49m\u001b[43mverb\u001b[49m\u001b[38;5;241;43m=\u001b[39;49m\u001b[38;5;28;43;01mFalse\u001b[39;49;00m\u001b[43m)\u001b[49m[\u001b[38;5;241m0\u001b[39m] \u001b[38;5;241m==\u001b[39m \u001b[38;5;28;01mTrue\u001b[39;00m:\n\u001b[0;32m     10\u001b[0m             schedules_acc[idx] \u001b[38;5;241m+\u001b[39m\u001b[38;5;241m=\u001b[39m \u001b[38;5;241m1\u001b[39m\n\u001b[0;32m     12\u001b[0m \u001b[38;5;28;01mfor\u001b[39;00m i \u001b[38;5;129;01min\u001b[39;00m \u001b[38;5;28mrange\u001b[39m(\u001b[38;5;241m3\u001b[39m):\n",
      "Cell \u001b[1;32mIn[48], line 38\u001b[0m, in \u001b[0;36msimulated_annealing\u001b[1;34m(board, t0, a, ep, schedule, verb)\u001b[0m\n\u001b[0;32m     36\u001b[0m     \u001b[38;5;28;01mfor\u001b[39;00m j \u001b[38;5;129;01min\u001b[39;00m \u001b[38;5;28mrange\u001b[39m(\u001b[38;5;28mlen\u001b[39m(bc)):\n\u001b[0;32m     37\u001b[0m         nbr[i] \u001b[38;5;241m=\u001b[39m j\n\u001b[1;32m---> 38\u001b[0m         nbr_dict[\u001b[43mconflicts\u001b[49m\u001b[43m(\u001b[49m\u001b[43mnbr\u001b[49m\u001b[43m)\u001b[49m] \u001b[38;5;241m=\u001b[39m nbr\n\u001b[0;32m     39\u001b[0m         nbr \u001b[38;5;241m=\u001b[39m np\u001b[38;5;241m.\u001b[39mcopy(bc)\n\u001b[0;32m     40\u001b[0m \u001b[38;5;66;03m# randomly select successor of current\u001b[39;00m\n",
      "Cell \u001b[1;32mIn[36], line 32\u001b[0m, in \u001b[0;36mconflicts\u001b[1;34m(board)\u001b[0m\n\u001b[0;32m     29\u001b[0m     diagonal1_cnt[i \u001b[38;5;241m+\u001b[39m board[i]] \u001b[38;5;241m+\u001b[39m\u001b[38;5;241m=\u001b[39m \u001b[38;5;241m1\u001b[39m\n\u001b[0;32m     30\u001b[0m     diagonal2_cnt[i \u001b[38;5;241m-\u001b[39m board[i] \u001b[38;5;241m+\u001b[39m n] \u001b[38;5;241m+\u001b[39m\u001b[38;5;241m=\u001b[39m \u001b[38;5;241m1\u001b[39m\n\u001b[1;32m---> 32\u001b[0m \u001b[38;5;28;01mreturn\u001b[39;00m \u001b[38;5;28;43msum\u001b[39;49m\u001b[43m(\u001b[49m\u001b[38;5;28;43mmap\u001b[39;49m\u001b[43m(\u001b[49m\u001b[43mcomb2\u001b[49m\u001b[43m,\u001b[49m\u001b[43m \u001b[49m\u001b[43mhorizontal_cnt\u001b[49m\u001b[43m \u001b[49m\u001b[38;5;241;43m+\u001b[39;49m\u001b[43m \u001b[49m\u001b[43mdiagonal1_cnt\u001b[49m\u001b[43m \u001b[49m\u001b[38;5;241;43m+\u001b[39;49m\u001b[43m \u001b[49m\u001b[43mdiagonal2_cnt\u001b[49m\u001b[43m)\u001b[49m\u001b[43m)\u001b[49m\n",
      "Cell \u001b[1;32mIn[36], line 16\u001b[0m, in \u001b[0;36mcomb2\u001b[1;34m(n)\u001b[0m\n\u001b[0;32m     12\u001b[0m \u001b[38;5;250m    \u001b[39m\u001b[38;5;124;03m\"\"\"Creates a random board of size n x n. Note that only a single queen is placed in each column!\"\"\"\u001b[39;00m\n\u001b[0;32m     14\u001b[0m     \u001b[38;5;28;01mreturn\u001b[39;00m(np\u001b[38;5;241m.\u001b[39mrandom\u001b[38;5;241m.\u001b[39mrandint(\u001b[38;5;241m0\u001b[39m,n, size \u001b[38;5;241m=\u001b[39m n))\n\u001b[1;32m---> 16\u001b[0m \u001b[38;5;28;01mdef\u001b[39;00m \u001b[38;5;21mcomb2\u001b[39m(n): \u001b[38;5;28;01mreturn\u001b[39;00m n\u001b[38;5;241m*\u001b[39m(n\u001b[38;5;241m-\u001b[39m\u001b[38;5;241m1\u001b[39m)\u001b[38;5;241m/\u001b[39m\u001b[38;5;241m/\u001b[39m\u001b[38;5;241m2\u001b[39m \u001b[38;5;66;03m# this is n choose 2 equivalent to math.comb(n, 2); // is int division\u001b[39;00m\n\u001b[0;32m     18\u001b[0m \u001b[38;5;28;01mdef\u001b[39;00m \u001b[38;5;21mconflicts\u001b[39m(board):\n\u001b[0;32m     19\u001b[0m \u001b[38;5;250m    \u001b[39m\u001b[38;5;124;03m\"\"\"Calculate the number of conflicts, i.e., the objective function.\"\"\"\u001b[39;00m\n",
      "\u001b[1;31mKeyboardInterrupt\u001b[0m: "
     ]
    }
   ],
   "source": [
    "schedules = [classic, fast, exponential]\n",
    "schedules_acc = [0,0,0]\n",
    "N = 100\n",
    "idx = -1\n",
    "\n",
    "for schedule in schedules:\n",
    "    idx += 1\n",
    "    for i in range(N):\n",
    "        if simulated_annealing(random_board(4), schedule=schedule, verb=False)[0] == True:\n",
    "            schedules_acc[idx] += 1\n",
    "\n",
    "for i in range(3):\n",
    "    schedules_acc[i] = schedules_acc[i]/N\n",
    "\n",
    "# exponential and classic have the highest accuracies of about 31-32%\n",
    "# choose to use exponential for a balance of accuracy and low runtime\n",
    "idx = -1\n",
    "for schedule in schedules:\n",
    "    idx += 1\n",
    "    print(f'Schedule {schedule} has an accuracy of {schedules_acc[idx]}')"
   ]
  },
  {
   "cell_type": "code",
   "execution_count": null,
   "metadata": {},
   "outputs": [],
   "source": [
    "# parameter tuning for t0\n",
    "\n",
    "t = [0.001, 0.05, 0.1, 0.5, 1, 5, 10, 20, 50]\n",
    "t_acc = [0,0,0,0,0,0,0,0,0]\n",
    "N = 500\n",
    "idx = -1\n",
    "\n",
    "for t0 in t:\n",
    "    idx += 1\n",
    "    for i in range(N):\n",
    "        if simulated_annealing(random_board(4), t0=t0, schedule=exponential, verb=False)[0] == 1:\n",
    "            t_acc[idx] += 1\n",
    "\n",
    "for i in range(9):\n",
    "    t_acc[i] = t_acc[i]/N\n",
    "\n",
    "# using a t0 of 20 has the highest accuracy\n",
    "t_acc"
   ]
  },
  {
   "cell_type": "code",
   "execution_count": null,
   "metadata": {},
   "outputs": [],
   "source": [
    "# parameter tuning for ep\n",
    "ep = [0.001, 0.01, 0.1, 0.5]\n",
    "ep_acc = [0,0,0,0]\n",
    "N = 500\n",
    "idx = -1\n",
    "\n",
    "for e in ep:\n",
    "    idx += 1\n",
    "    for i in range(N):\n",
    "        if simulated_annealing(random_board(4), t0=20, ep=e, schedule=exponential, verb=False)[0] == 1:\n",
    "            ep_acc[idx] += 1\n",
    "\n",
    "for i in range(4):\n",
    "    ep_acc[i] = ep_acc[i]/N\n",
    "\n",
    "# 0.01 has the highest accuracy\n",
    "ep_acc"
   ]
  },
  {
   "cell_type": "code",
   "execution_count": null,
   "metadata": {},
   "outputs": [],
   "source": [
    "# parameter tuning for a since we chose exponential\n",
    "a = [0.8,0.9,.99]\n",
    "a_acc = [0,0,0]\n",
    "N = 500\n",
    "idx = -1\n",
    "\n",
    "for _a in a:\n",
    "    idx += 1\n",
    "    for i in range(N):\n",
    "        if simulated_annealing(random_board(4), t0=20, a=_a, ep=0.01, schedule=exponential, verb=False)[0] == 1:\n",
    "            a_acc[idx] += 1\n",
    "\n",
    "for i in range(3):\n",
    "    a_acc[i] = a_acc[i]/N\n",
    "\n",
    "# 0.99 has the highest accuracy\n",
    "a_acc"
   ]
  },
  {
   "cell_type": "markdown",
   "metadata": {},
   "source": [
    "## Task 6: Algorithm Behavior Analysis [20 Points]\n",
    "\n",
    "### Comparison\n",
    "Compare the algorithm using runtime and objective function values. Use boards of size 4 and 8 to explore how the different algorithms perform. Make sure that you run the algorithms for each board size several times (at least 100 times) with different starting boards and report averages.\n",
    "\n",
    "Complete the following table\n",
    "\n",
    "| Algorithm           | Board size | Avg. Run time | Avg. number of conflicts | % of runs ending in optimal solution  |\n",
    "| ------------------- | ---------- | ------------- | --------------------------------- | - |\n",
    "| Steepest asc. HC    |     4      |               |                                   |   |\n",
    "| Stochastic HC 1     |     4      |               |                                   |   |\n",
    "| Stochastic HC 2     |     4      |               |                                   |   |\n",
    "| Simulated Annealing |     4      |               |                                   |   |\n",
    "| Steepest asc. HC    |     8      |               |                                   |   |\n",
    "| Stochastic HC 1     |     8      |               |                                   |   |\n",
    "| Stochastic HC 2     |     8      |               |                                   |   |\n",
    "| Simulated Annealing |     8      |               |                                   |   |\n",
    "\n",
    "Hint: See [Profiling Python Code](../HOWTOs/profiling_code.ipynb) for help about how to measure runtime in Python.\n",
    "\n",
    "Add the used code here:"
   ]
  },
  {
   "cell_type": "code",
   "execution_count": null,
   "metadata": {},
   "outputs": [],
   "source": [
    "# Code"
   ]
  },
  {
   "cell_type": "markdown",
   "metadata": {},
   "source": [
    "### Algorithm Convergence\n",
    "\n",
    "For each algorithm implemented, describe the typical convergence pattern (fast initial improvement vs. steady progress).\n",
    "Include a plot showing the objective function value over iterations for one representative run of each algorithm on the 8-queens problem.\n",
    "Explain which algorithms exhibit plateaus or getting stuck in local optima most frequently."
   ]
  },
  {
   "cell_type": "code",
   "execution_count": null,
   "metadata": {},
   "outputs": [],
   "source": [
    "# Code and description go here"
   ]
  },
  {
   "cell_type": "markdown",
   "metadata": {},
   "source": [
    "### Problem Size Scalability\n",
    "\n",
    "Create a log-log plot showing how runtime scales with board size ($n=4, 8, 12, 16, 20$) for at least two algorithms.\n",
    "Estimate the empirical time complexity (Big O) for each algorithm based on your results.\n",
    "Identify which algorithm scales best for large problem sizes and explain why."
   ]
  },
  {
   "cell_type": "code",
   "execution_count": null,
   "metadata": {},
   "outputs": [],
   "source": [
    "# Code and description go here"
   ]
  },
  {
   "cell_type": "markdown",
   "metadata": {},
   "source": [
    "## Advanced task: Exploring other Local Moves Operators\n",
    "\n",
    "* __Graduate students__ need to complete this task [10 points]\n",
    "* __Undergraduate students__ can attempt this as a bonus task [max +5 bonus points].\n",
    "\n",
    "### Move Operator Implementation \n",
    "\n",
    "Implement the following local move operators:\n",
    "\n",
    "* Single-step move: Move one queen only one square up or down at a time\n",
    "* Column swap: Exchange the positions of queens in two randomly selected columns\n",
    "* Dual-queen move: Select two queens and move both simultaneously\n",
    "* Adaptive move: Design your own operator that adapts which local move it uses based on the current state (e.g., focuses on queens with most conflicts or randomly chooses one of the moves above)\n",
    "\n",
    "### Experimental Analysis\n",
    "\n",
    "Using the 8-Queens and 12-Queens problems: Run your Stochastic Hill Climbing 2 implementation with each move operator 100 times\n",
    "For each operator, create a visualization showing:\n",
    "\n",
    "* Average solution quality over iterations\n",
    "* Distribution of final solution qualities\n",
    "* Average time to solution for successful runs\n",
    "\n",
    "### Discussion\n",
    "\n",
    "Describe what you have learned from the experiments. Which operator works best for which situation and why?"
   ]
  },
  {
   "cell_type": "code",
   "execution_count": 9,
   "metadata": {
    "tags": []
   },
   "outputs": [],
   "source": [
    "# Code and description go here"
   ]
  },
  {
   "cell_type": "markdown",
   "metadata": {},
   "source": [
    "## More Things to Do (not for credit)\n",
    "\n",
    "If the assignment was to easy for yuo then you can think about the following problems. These problems are challenging and not part of this assignment. \n",
    "\n",
    "### Implement a Genetic Algorithm for the n-Queens problem"
   ]
  },
  {
   "cell_type": "code",
   "execution_count": 10,
   "metadata": {
    "tags": []
   },
   "outputs": [],
   "source": [
    "# Code and description go here"
   ]
  }
 ],
 "metadata": {
  "kernelspec": {
   "display_name": "base",
   "language": "python",
   "name": "python3"
  },
  "language_info": {
   "codemirror_mode": {
    "name": "ipython",
    "version": 3
   },
   "file_extension": ".py",
   "mimetype": "text/x-python",
   "name": "python",
   "nbconvert_exporter": "python",
   "pygments_lexer": "ipython3",
   "version": "3.12.4"
  },
  "toc-autonumbering": false,
  "toc-showcode": false,
  "toc-showmarkdowntxt": false,
  "toc-showtags": false
 },
 "nbformat": 4,
 "nbformat_minor": 4
}
